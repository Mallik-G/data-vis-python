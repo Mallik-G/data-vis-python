{
 "cells": [
  {
   "cell_type": "markdown",
   "metadata": {},
   "source": [
    "# Workbook - Purpose\n",
    "\n",
    "- Visual Vocabulary from FT\n",
    "- Gramener Vega / Vega-Lite Version of that: https://gramener.github.io/visual-vocabulary-vega/\n",
    "\n",
    "\n",
    "Purpose\n",
    "\n",
    "- Distribution\n",
    "- Ranking \n",
    "- Magnitude\n",
    "- Correlation"
   ]
  },
  {
   "cell_type": "code",
   "execution_count": null,
   "metadata": {},
   "outputs": [],
   "source": []
  }
 ],
 "metadata": {
  "kernelspec": {
   "display_name": "Python 3",
   "language": "python",
   "name": "python3"
  },
  "language_info": {
   "codemirror_mode": {
    "name": "ipython",
    "version": 3
   },
   "file_extension": ".py",
   "mimetype": "text/x-python",
   "name": "python",
   "nbconvert_exporter": "python",
   "pygments_lexer": "ipython3",
   "version": "3.6.7"
  }
 },
 "nbformat": 4,
 "nbformat_minor": 4
}
