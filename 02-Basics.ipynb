{
 "cells": [
  {
   "cell_type": "markdown",
   "metadata": {},
   "source": [
    "# Basics of Data Visualisation\n",
    "\n",
    "## Context\n",
    "\n",
    "This example is based on sample dataset for a telo predicting customer behavior to retain them. The key target of the analysis is the churn feature - customers that left the service with the last month.\n",
    "\n",
    "Source: https://www.kaggle.com/blastchar/telco-customer-churn/\n",
    "\n",
    "## Dataset\n",
    "\n",
    "Each row represents a customer, each column contains customer’s attributes described oin the column Metadata.\n",
    "\n",
    "- Customer Account Information\n",
    "  - `CustomerID`: Unique ID for the customer *(unique String)*?\n",
    "  - `Churn`: Customers who left within the last month *(Yes or No)*?\n",
    "  - `Tenure`: How long they’ve been a customer *(In months, Integer)*?\n",
    "  - `Contract`: What type of contract do they have *(Month-to-month, One year, Two year)*?\n",
    "  - `PaymentMethod`: What payment method is used by the customer *(Electronic check, Mailed check, Bank transfer, or Credit card)*?\n",
    "  - `PaperlessBilling`: Whether the customer has subscribed to paperless billing *(Yes or No)*?\n",
    "  - `MonthlyCharges`: What was the monthly charges for the customer (Amount, Float)?\n",
    "  - `TotalCharges`: What were the total charges for the customer (Amount, Float)?\n",
    "- Customer Demographics \n",
    "  - `Gender`: What is the gender of the customer *(Male or Female)*?\n",
    "  - `SeniorCitizen`: Whether the customer is a Senior Citizen or not *(0 or 1)*?\n",
    "  - `Partner`: Whether the customer has a partner *(Yes or No)*?\n",
    "  - `Dependents`: Whether the customer has any dependents *(Yes or No)*?\n",
    "- Customer Signed Up Service Status\n",
    "  - `PhoneService`: Signed up for Phone Service *(Yes or No)*?\n",
    "  - `MultipleLines`: Signed up for Multiple Lines *(Yes or No or No Phone Service)*?\n",
    "  - `InternetService`: Signed up for Internet Service *(DSL or Fiber optic or No)*?\n",
    "  - `OnlineSecurity`: Signed up for Online Security *(Yes or No or No internet service)*?\n",
    "  - `OnlineBackup`: Signed up for Online Backup *(Yes or No or No internet service)*?\n",
    "  - `DeviceProtection`: Signed up for Device Protection plan *(Yes or No or No internet service)*?\n",
    "  - `TechSupport`: Signed up for Tech Support *(Yes or No or No internet service)*?\n",
    "  - `StreamingTV`: Signed up for Streaming TV *(Yes or No or No internet service)*?\n",
    "  - `StreamingMovies`: Signed up for Streaming Movies *(Yes or No or No internet service)*?"
   ]
  },
  {
   "cell_type": "code",
   "execution_count": 69,
   "metadata": {},
   "outputs": [
    {
     "data": {
      "text/plain": [
       "DataTransformerRegistry.enable('json')"
      ]
     },
     "execution_count": 69,
     "metadata": {},
     "output_type": "execute_result"
    }
   ],
   "source": [
    "import numpy as np\n",
    "import pandas as pd\n",
    "import altair as alt\n",
    "alt.data_transformers.disable_max_rows()\n",
    "alt.data_transformers.enable('json')"
   ]
  },
  {
   "cell_type": "code",
   "execution_count": 45,
   "metadata": {},
   "outputs": [],
   "source": [
    "df = pd.read_csv(\"data/churn.csv\")"
   ]
  },
  {
   "cell_type": "code",
   "execution_count": 46,
   "metadata": {},
   "outputs": [
    {
     "data": {
      "text/plain": [
       "(7043, 21)"
      ]
     },
     "execution_count": 46,
     "metadata": {},
     "output_type": "execute_result"
    }
   ],
   "source": [
    "df.shape"
   ]
  },
  {
   "cell_type": "code",
   "execution_count": 47,
   "metadata": {},
   "outputs": [
    {
     "data": {
      "text/html": [
       "<div>\n",
       "<style scoped>\n",
       "    .dataframe tbody tr th:only-of-type {\n",
       "        vertical-align: middle;\n",
       "    }\n",
       "\n",
       "    .dataframe tbody tr th {\n",
       "        vertical-align: top;\n",
       "    }\n",
       "\n",
       "    .dataframe thead th {\n",
       "        text-align: right;\n",
       "    }\n",
       "</style>\n",
       "<table border=\"1\" class=\"dataframe\">\n",
       "  <thead>\n",
       "    <tr style=\"text-align: right;\">\n",
       "      <th></th>\n",
       "      <th>CustomerID</th>\n",
       "      <th>Gender</th>\n",
       "      <th>SeniorCitizen</th>\n",
       "      <th>Partner</th>\n",
       "      <th>Dependents</th>\n",
       "      <th>Tenure</th>\n",
       "      <th>PhoneService</th>\n",
       "      <th>MultipleLines</th>\n",
       "      <th>InternetService</th>\n",
       "      <th>OnlineSecurity</th>\n",
       "      <th>...</th>\n",
       "      <th>DeviceProtection</th>\n",
       "      <th>TechSupport</th>\n",
       "      <th>StreamingTV</th>\n",
       "      <th>StreamingMovies</th>\n",
       "      <th>Contract</th>\n",
       "      <th>PaperlessBilling</th>\n",
       "      <th>PaymentMethod</th>\n",
       "      <th>MonthlyCharges</th>\n",
       "      <th>TotalCharges</th>\n",
       "      <th>Churn</th>\n",
       "    </tr>\n",
       "  </thead>\n",
       "  <tbody>\n",
       "    <tr>\n",
       "      <td>0</td>\n",
       "      <td>7590-VHVEG</td>\n",
       "      <td>Female</td>\n",
       "      <td>0</td>\n",
       "      <td>Yes</td>\n",
       "      <td>No</td>\n",
       "      <td>1</td>\n",
       "      <td>No</td>\n",
       "      <td>No phone service</td>\n",
       "      <td>DSL</td>\n",
       "      <td>No</td>\n",
       "      <td>...</td>\n",
       "      <td>No</td>\n",
       "      <td>No</td>\n",
       "      <td>No</td>\n",
       "      <td>No</td>\n",
       "      <td>Month-to-month</td>\n",
       "      <td>Yes</td>\n",
       "      <td>Electronic check</td>\n",
       "      <td>29.85</td>\n",
       "      <td>29.85</td>\n",
       "      <td>No</td>\n",
       "    </tr>\n",
       "    <tr>\n",
       "      <td>1</td>\n",
       "      <td>5575-GNVDE</td>\n",
       "      <td>Male</td>\n",
       "      <td>0</td>\n",
       "      <td>No</td>\n",
       "      <td>No</td>\n",
       "      <td>34</td>\n",
       "      <td>Yes</td>\n",
       "      <td>No</td>\n",
       "      <td>DSL</td>\n",
       "      <td>Yes</td>\n",
       "      <td>...</td>\n",
       "      <td>Yes</td>\n",
       "      <td>No</td>\n",
       "      <td>No</td>\n",
       "      <td>No</td>\n",
       "      <td>One year</td>\n",
       "      <td>No</td>\n",
       "      <td>Mailed check</td>\n",
       "      <td>56.95</td>\n",
       "      <td>1889.5</td>\n",
       "      <td>No</td>\n",
       "    </tr>\n",
       "    <tr>\n",
       "      <td>2</td>\n",
       "      <td>3668-QPYBK</td>\n",
       "      <td>Male</td>\n",
       "      <td>0</td>\n",
       "      <td>No</td>\n",
       "      <td>No</td>\n",
       "      <td>2</td>\n",
       "      <td>Yes</td>\n",
       "      <td>No</td>\n",
       "      <td>DSL</td>\n",
       "      <td>Yes</td>\n",
       "      <td>...</td>\n",
       "      <td>No</td>\n",
       "      <td>No</td>\n",
       "      <td>No</td>\n",
       "      <td>No</td>\n",
       "      <td>Month-to-month</td>\n",
       "      <td>Yes</td>\n",
       "      <td>Mailed check</td>\n",
       "      <td>53.85</td>\n",
       "      <td>108.15</td>\n",
       "      <td>Yes</td>\n",
       "    </tr>\n",
       "    <tr>\n",
       "      <td>3</td>\n",
       "      <td>7795-CFOCW</td>\n",
       "      <td>Male</td>\n",
       "      <td>0</td>\n",
       "      <td>No</td>\n",
       "      <td>No</td>\n",
       "      <td>45</td>\n",
       "      <td>No</td>\n",
       "      <td>No phone service</td>\n",
       "      <td>DSL</td>\n",
       "      <td>Yes</td>\n",
       "      <td>...</td>\n",
       "      <td>Yes</td>\n",
       "      <td>Yes</td>\n",
       "      <td>No</td>\n",
       "      <td>No</td>\n",
       "      <td>One year</td>\n",
       "      <td>No</td>\n",
       "      <td>Bank transfer (automatic)</td>\n",
       "      <td>42.30</td>\n",
       "      <td>1840.75</td>\n",
       "      <td>No</td>\n",
       "    </tr>\n",
       "    <tr>\n",
       "      <td>4</td>\n",
       "      <td>9237-HQITU</td>\n",
       "      <td>Female</td>\n",
       "      <td>0</td>\n",
       "      <td>No</td>\n",
       "      <td>No</td>\n",
       "      <td>2</td>\n",
       "      <td>Yes</td>\n",
       "      <td>No</td>\n",
       "      <td>Fiber optic</td>\n",
       "      <td>No</td>\n",
       "      <td>...</td>\n",
       "      <td>No</td>\n",
       "      <td>No</td>\n",
       "      <td>No</td>\n",
       "      <td>No</td>\n",
       "      <td>Month-to-month</td>\n",
       "      <td>Yes</td>\n",
       "      <td>Electronic check</td>\n",
       "      <td>70.70</td>\n",
       "      <td>151.65</td>\n",
       "      <td>Yes</td>\n",
       "    </tr>\n",
       "  </tbody>\n",
       "</table>\n",
       "<p>5 rows × 21 columns</p>\n",
       "</div>"
      ],
      "text/plain": [
       "   CustomerID  Gender  SeniorCitizen Partner Dependents  Tenure PhoneService  \\\n",
       "0  7590-VHVEG  Female              0     Yes         No       1           No   \n",
       "1  5575-GNVDE    Male              0      No         No      34          Yes   \n",
       "2  3668-QPYBK    Male              0      No         No       2          Yes   \n",
       "3  7795-CFOCW    Male              0      No         No      45           No   \n",
       "4  9237-HQITU  Female              0      No         No       2          Yes   \n",
       "\n",
       "      MultipleLines InternetService OnlineSecurity  ... DeviceProtection  \\\n",
       "0  No phone service             DSL             No  ...               No   \n",
       "1                No             DSL            Yes  ...              Yes   \n",
       "2                No             DSL            Yes  ...               No   \n",
       "3  No phone service             DSL            Yes  ...              Yes   \n",
       "4                No     Fiber optic             No  ...               No   \n",
       "\n",
       "  TechSupport StreamingTV StreamingMovies        Contract PaperlessBilling  \\\n",
       "0          No          No              No  Month-to-month              Yes   \n",
       "1          No          No              No        One year               No   \n",
       "2          No          No              No  Month-to-month              Yes   \n",
       "3         Yes          No              No        One year               No   \n",
       "4          No          No              No  Month-to-month              Yes   \n",
       "\n",
       "               PaymentMethod MonthlyCharges  TotalCharges Churn  \n",
       "0           Electronic check          29.85         29.85    No  \n",
       "1               Mailed check          56.95        1889.5    No  \n",
       "2               Mailed check          53.85        108.15   Yes  \n",
       "3  Bank transfer (automatic)          42.30       1840.75    No  \n",
       "4           Electronic check          70.70        151.65   Yes  \n",
       "\n",
       "[5 rows x 21 columns]"
      ]
     },
     "execution_count": 47,
     "metadata": {},
     "output_type": "execute_result"
    }
   ],
   "source": [
    "df.head()"
   ]
  },
  {
   "cell_type": "code",
   "execution_count": 48,
   "metadata": {},
   "outputs": [
    {
     "data": {
      "text/plain": [
       "CustomerID           object\n",
       "Gender               object\n",
       "SeniorCitizen         int64\n",
       "Partner              object\n",
       "Dependents           object\n",
       "Tenure                int64\n",
       "PhoneService         object\n",
       "MultipleLines        object\n",
       "InternetService      object\n",
       "OnlineSecurity       object\n",
       "OnlineBackup         object\n",
       "DeviceProtection     object\n",
       "TechSupport          object\n",
       "StreamingTV          object\n",
       "StreamingMovies      object\n",
       "Contract             object\n",
       "PaperlessBilling     object\n",
       "PaymentMethod        object\n",
       "MonthlyCharges      float64\n",
       "TotalCharges         object\n",
       "Churn                object\n",
       "dtype: object"
      ]
     },
     "execution_count": 48,
     "metadata": {},
     "output_type": "execute_result"
    }
   ],
   "source": [
    "df.dtypes"
   ]
  },
  {
   "cell_type": "markdown",
   "metadata": {},
   "source": [
    "## 1D Continuous Vis\n",
    "\n",
    "Let us look at the `Tenure` variables"
   ]
  },
  {
   "cell_type": "markdown",
   "metadata": {},
   "source": [
    "### Tenure"
   ]
  },
  {
   "cell_type": "markdown",
   "metadata": {},
   "source": [
    "#### Plotting all the data\n",
    "\n",
    "- We can plot all the points directly\n",
    "- This usually results in overplotting, so we add opacity to handle this"
   ]
  },
  {
   "cell_type": "code",
   "execution_count": 125,
   "metadata": {},
   "outputs": [
    {
     "data": {
      "application/vnd.vegalite.v3+json": {
       "$schema": "https://vega.github.io/schema/vega-lite/v3.4.0.json",
       "config": {
        "mark": {
         "tooltip": null
        },
        "view": {
         "height": 300,
         "width": 400
        }
       },
       "data": {
        "format": {
         "type": "json"
        },
        "url": "altair-data-a67a594eb874048f3163802c0071484b.json"
       },
       "encoding": {
        "opacity": {
         "value": 0.01
        },
        "x": {
         "field": "Tenure",
         "type": "quantitative"
        }
       },
       "mark": "tick"
      },
      "image/png": "[encoded data removed]",
      "text/plain": [
       "<VegaLite 3 object>\n",
       "\n",
       "If you see this message, it means the renderer has not been properly enabled\n",
       "for the frontend that you are using. For more information, see\n",
       "https://altair-viz.github.io/user_guide/troubleshooting.html\n"
      ]
     },
     "execution_count": 125,
     "metadata": {},
     "output_type": "execute_result"
    }
   ],
   "source": [
    "alt.Chart(df).mark_tick().encode(\n",
    "    alt.X(\"Tenure:Q\"),\n",
    "    alt.Opacity(value=0.01)\n",
    ")"
   ]
  },
  {
   "cell_type": "code",
   "execution_count": 126,
   "metadata": {},
   "outputs": [
    {
     "data": {
      "application/vnd.vegalite.v3+json": {
       "$schema": "https://vega.github.io/schema/vega-lite/v3.4.0.json",
       "config": {
        "mark": {
         "tooltip": null
        },
        "view": {
         "height": 300,
         "width": 400
        }
       },
       "data": {
        "format": {
         "type": "json"
        },
        "url": "altair-data-a67a594eb874048f3163802c0071484b.json"
       },
       "encoding": {
        "opacity": {
         "value": 0.01
        },
        "x": {
         "field": "Tenure",
         "type": "quantitative"
        }
       },
       "mark": "circle"
      },
      "image/png": "[encoded data removed]",
      "text/plain": [
       "<VegaLite 3 object>\n",
       "\n",
       "If you see this message, it means the renderer has not been properly enabled\n",
       "for the frontend that you are using. For more information, see\n",
       "https://altair-viz.github.io/user_guide/troubleshooting.html\n"
      ]
     },
     "execution_count": 126,
     "metadata": {},
     "output_type": "execute_result"
    }
   ],
   "source": [
    "alt.Chart(df).mark_circle().encode(\n",
    "    alt.X(\"Tenure:Q\"),\n",
    "    alt.Opacity(value=0.01)\n",
    ")"
   ]
  },
  {
   "cell_type": "code",
   "execution_count": 129,
   "metadata": {},
   "outputs": [
    {
     "data": {
      "application/vnd.vegalite.v3+json": {
       "$schema": "https://vega.github.io/schema/vega-lite/v3.4.0.json",
       "config": {
        "mark": {
         "tooltip": null
        },
        "view": {
         "height": 300,
         "width": 400
        }
       },
       "data": {
        "format": {
         "type": "json"
        },
        "url": "altair-data-a67a594eb874048f3163802c0071484b.json"
       },
       "encoding": {
        "opacity": {
         "value": 0.05
        },
        "size": {
         "value": 50
        },
        "x": {
         "field": "Tenure",
         "type": "quantitative"
        },
        "y": {
         "field": "jitter",
         "type": "quantitative"
        }
       },
       "height": 100,
       "mark": "circle",
       "transform": [
        {
         "as": "jitter",
         "calculate": "random()"
        }
       ]
      },
      "image/png": "[encoded data removed]",
      "text/plain": [
       "<VegaLite 3 object>\n",
       "\n",
       "If you see this message, it means the renderer has not been properly enabled\n",
       "for the frontend that you are using. For more information, see\n",
       "https://altair-viz.github.io/user_guide/troubleshooting.html\n"
      ]
     },
     "execution_count": 129,
     "metadata": {},
     "output_type": "execute_result"
    }
   ],
   "source": [
    "# Adding random jitter to the chart\n",
    "\n",
    "alt.Chart(df).mark_circle().encode(\n",
    "    alt.X(\"Tenure:Q\"),\n",
    "    alt.Y(\"jitter:Q\"),\n",
    "    alt.Size(value=50),\n",
    "    alt.Opacity(value=0.05)\n",
    ").transform_calculate(\n",
    "    jitter=alt.expr.random()\n",
    ").properties(height=100)"
   ]
  },
  {
   "cell_type": "markdown",
   "metadata": {},
   "source": [
    "#### Binning the Data"
   ]
  },
  {
   "cell_type": "code",
   "execution_count": 82,
   "metadata": {},
   "outputs": [
    {
     "data": {
      "application/vnd.vegalite.v3+json": {
       "$schema": "https://vega.github.io/schema/vega-lite/v3.4.0.json",
       "config": {
        "mark": {
         "tooltip": null
        },
        "view": {
         "height": 300,
         "width": 400
        }
       },
       "data": {
        "format": {
         "type": "json"
        },
        "url": "altair-data-a67a594eb874048f3163802c0071484b.json"
       },
       "encoding": {
        "x": {
         "bin": true,
         "field": "Tenure",
         "type": "quantitative"
        },
        "y": {
         "aggregate": "count",
         "type": "quantitative"
        }
       },
       "mark": "bar"
      },
      "image/png": "[encoded data removed]",
      "text/plain": [
       "<VegaLite 3 object>\n",
       "\n",
       "If you see this message, it means the renderer has not been properly enabled\n",
       "for the frontend that you are using. For more information, see\n",
       "https://altair-viz.github.io/user_guide/troubleshooting.html\n"
      ]
     },
     "execution_count": 82,
     "metadata": {},
     "output_type": "execute_result"
    }
   ],
   "source": [
    "alt.Chart(df).mark_bar().encode(\n",
    "    alt.X(\"Tenure:Q\", bin=True),\n",
    "    alt.Y(\"count()\")\n",
    ")"
   ]
  },
  {
   "cell_type": "code",
   "execution_count": 138,
   "metadata": {},
   "outputs": [
    {
     "data": {
      "application/vnd.vegalite.v3+json": {
       "$schema": "https://vega.github.io/schema/vega-lite/v3.4.0.json",
       "config": {
        "mark": {
         "tooltip": null
        },
        "view": {
         "height": 300,
         "width": 400
        }
       },
       "data": {
        "format": {
         "type": "json"
        },
        "url": "altair-data-a67a594eb874048f3163802c0071484b.json"
       },
       "encoding": {
        "x": {
         "bin": {
          "maxbins": 20
         },
         "field": "Tenure",
         "type": "quantitative"
        },
        "y": {
         "aggregate": "count",
         "type": "quantitative"
        }
       },
       "mark": "bar"
      },
      "image/png": "[encoded data removed]",
      "text/plain": [
       "<VegaLite 3 object>\n",
       "\n",
       "If you see this message, it means the renderer has not been properly enabled\n",
       "for the frontend that you are using. For more information, see\n",
       "https://altair-viz.github.io/user_guide/troubleshooting.html\n"
      ]
     },
     "execution_count": 138,
     "metadata": {},
     "output_type": "execute_result"
    }
   ],
   "source": [
    "alt.Chart(df).mark_bar().encode(\n",
    "    alt.X(\"Tenure:Q\", bin=alt.BinParams(maxbins=20)),\n",
    "    alt.Y(\"count()\")\n",
    ")"
   ]
  },
  {
   "cell_type": "code",
   "execution_count": 89,
   "metadata": {},
   "outputs": [
    {
     "data": {
      "application/vnd.vegalite.v3+json": {
       "$schema": "https://vega.github.io/schema/vega-lite/v3.4.0.json",
       "config": {
        "mark": {
         "tooltip": null
        },
        "view": {
         "height": 300,
         "width": 400
        }
       },
       "data": {
        "format": {
         "type": "json"
        },
        "url": "altair-data-a67a594eb874048f3163802c0071484b.json"
       },
       "encoding": {
        "x": {
         "bin": true,
         "field": "Tenure",
         "type": "quantitative"
        },
        "y": {
         "aggregate": "count",
         "type": "quantitative"
        }
       },
       "mark": "area"
      },
      "image/png": "[encoded data removed]",
      "text/plain": [
       "<VegaLite 3 object>\n",
       "\n",
       "If you see this message, it means the renderer has not been properly enabled\n",
       "for the frontend that you are using. For more information, see\n",
       "https://altair-viz.github.io/user_guide/troubleshooting.html\n"
      ]
     },
     "execution_count": 89,
     "metadata": {},
     "output_type": "execute_result"
    }
   ],
   "source": [
    "alt.Chart(df).mark_area().encode(\n",
    "    alt.X(\"Tenure:Q\", bin=True),\n",
    "    alt.Y(\"count()\")\n",
    ")"
   ]
  },
  {
   "cell_type": "markdown",
   "metadata": {},
   "source": [
    "#### Binning using top-level transform"
   ]
  },
  {
   "cell_type": "code",
   "execution_count": 85,
   "metadata": {},
   "outputs": [
    {
     "data": {
      "application/vnd.vegalite.v3+json": {
       "$schema": "https://vega.github.io/schema/vega-lite/v3.4.0.json",
       "config": {
        "mark": {
         "tooltip": null
        },
        "view": {
         "height": 300,
         "width": 400
        }
       },
       "data": {
        "format": {
         "type": "json"
        },
        "url": "altair-data-a67a594eb874048f3163802c0071484b.json"
       },
       "encoding": {
        "x": {
         "field": "Binned_Tenure",
         "type": "ordinal"
        },
        "y": {
         "aggregate": "count",
         "type": "quantitative"
        }
       },
       "mark": "bar",
       "transform": [
        {
         "as": "Binned_Tenure",
         "bin": true,
         "field": "Tenure"
        }
       ]
      },
      "image/png": "[encoded data removed]",
      "text/plain": [
       "<VegaLite 3 object>\n",
       "\n",
       "If you see this message, it means the renderer has not been properly enabled\n",
       "for the frontend that you are using. For more information, see\n",
       "https://altair-viz.github.io/user_guide/troubleshooting.html\n"
      ]
     },
     "execution_count": 85,
     "metadata": {},
     "output_type": "execute_result"
    }
   ],
   "source": [
    "alt.Chart(df).mark_bar().encode(\n",
    "    alt.X(\"Binned_Tenure:O\"),\n",
    "    alt.Y(\"count()\")\n",
    ").transform_bin(\n",
    "    'Binned_Tenure', field='Tenure'\n",
    ")"
   ]
  },
  {
   "cell_type": "markdown",
   "metadata": {},
   "source": [
    "## 1D Categorical"
   ]
  },
  {
   "cell_type": "markdown",
   "metadata": {},
   "source": [
    "### Churn"
   ]
  },
  {
   "cell_type": "code",
   "execution_count": 71,
   "metadata": {},
   "outputs": [
    {
     "data": {
      "application/vnd.vegalite.v3+json": {
       "$schema": "https://vega.github.io/schema/vega-lite/v3.4.0.json",
       "config": {
        "mark": {
         "tooltip": null
        },
        "view": {
         "height": 300,
         "width": 400
        }
       },
       "data": {
        "format": {
         "type": "json"
        },
        "url": "altair-data-a67a594eb874048f3163802c0071484b.json"
       },
       "encoding": {
        "y": {
         "field": "Churn",
         "type": "nominal"
        }
       },
       "mark": "point"
      },
      "image/png": "[encoded data removed]",
      "text/plain": [
       "<VegaLite 3 object>\n",
       "\n",
       "If you see this message, it means the renderer has not been properly enabled\n",
       "for the frontend that you are using. For more information, see\n",
       "https://altair-viz.github.io/user_guide/troubleshooting.html\n"
      ]
     },
     "execution_count": 71,
     "metadata": {},
     "output_type": "execute_result"
    }
   ],
   "source": [
    "alt.Chart(df).mark_point().encode(\n",
    "    alt.Y(\"Churn:N\"),\n",
    ")"
   ]
  },
  {
   "cell_type": "code",
   "execution_count": 139,
   "metadata": {},
   "outputs": [
    {
     "data": {
      "application/vnd.vegalite.v3+json": {
       "$schema": "https://vega.github.io/schema/vega-lite/v3.4.0.json",
       "config": {
        "mark": {
         "tooltip": null
        },
        "view": {
         "height": 300,
         "width": 400
        }
       },
       "data": {
        "format": {
         "type": "json"
        },
        "url": "altair-data-a67a594eb874048f3163802c0071484b.json"
       },
       "encoding": {
        "x": {
         "aggregate": "count",
         "type": "quantitative"
        },
        "y": {
         "field": "Churn",
         "type": "nominal"
        }
       },
       "mark": "point"
      },
      "image/png": "[encoded data removed]",
      "text/plain": [
       "<VegaLite 3 object>\n",
       "\n",
       "If you see this message, it means the renderer has not been properly enabled\n",
       "for the frontend that you are using. For more information, see\n",
       "https://altair-viz.github.io/user_guide/troubleshooting.html\n"
      ]
     },
     "execution_count": 139,
     "metadata": {},
     "output_type": "execute_result"
    }
   ],
   "source": [
    "alt.Chart(df).mark_point().encode(\n",
    "    alt.Y(\"Churn:N\"),\n",
    "    alt.X('count()')\n",
    ")"
   ]
  },
  {
   "cell_type": "code",
   "execution_count": 72,
   "metadata": {},
   "outputs": [
    {
     "data": {
      "application/vnd.vegalite.v3+json": {
       "$schema": "https://vega.github.io/schema/vega-lite/v3.4.0.json",
       "config": {
        "mark": {
         "tooltip": null
        },
        "view": {
         "height": 300,
         "width": 400
        }
       },
       "data": {
        "format": {
         "type": "json"
        },
        "url": "altair-data-a67a594eb874048f3163802c0071484b.json"
       },
       "encoding": {
        "x": {
         "aggregate": "count",
         "type": "quantitative"
        },
        "y": {
         "field": "Churn",
         "type": "nominal"
        }
       },
       "mark": "bar"
      },
      "image/png": "[encoded data removed]",
      "text/plain": [
       "<VegaLite 3 object>\n",
       "\n",
       "If you see this message, it means the renderer has not been properly enabled\n",
       "for the frontend that you are using. For more information, see\n",
       "https://altair-viz.github.io/user_guide/troubleshooting.html\n"
      ]
     },
     "execution_count": 72,
     "metadata": {},
     "output_type": "execute_result"
    }
   ],
   "source": [
    "alt.Chart(df).mark_bar().encode(\n",
    "    alt.Y(\"Churn:N\"),\n",
    "    alt.X('count()')\n",
    ")"
   ]
  },
  {
   "cell_type": "markdown",
   "metadata": {},
   "source": [
    "## 2D Continuous + Categorical"
   ]
  },
  {
   "cell_type": "code",
   "execution_count": 145,
   "metadata": {},
   "outputs": [
    {
     "data": {
      "application/vnd.vegalite.v3+json": {
       "$schema": "https://vega.github.io/schema/vega-lite/v3.4.0.json",
       "config": {
        "mark": {
         "tooltip": null
        },
        "view": {
         "height": 300,
         "width": 400
        }
       },
       "data": {
        "format": {
         "type": "json"
        },
        "url": "altair-data-a67a594eb874048f3163802c0071484b.json"
       },
       "encoding": {
        "color": {
         "aggregate": "count",
         "type": "quantitative"
        },
        "x": {
         "bin": true,
         "field": "Tenure",
         "type": "quantitative"
        },
        "y": {
         "field": "Churn",
         "type": "nominal"
        }
       },
       "mark": "bar"
      },
      "image/png": "[encoded data removed]",
      "text/plain": [
       "<VegaLite 3 object>\n",
       "\n",
       "If you see this message, it means the renderer has not been properly enabled\n",
       "for the frontend that you are using. For more information, see\n",
       "https://altair-viz.github.io/user_guide/troubleshooting.html\n"
      ]
     },
     "execution_count": 145,
     "metadata": {},
     "output_type": "execute_result"
    }
   ],
   "source": [
    "alt.Chart(df).mark_bar().encode(\n",
    "    alt.Y(\"Churn:N\"),\n",
    "    alt.X('Tenure:Q', bin=True),\n",
    "    alt.Color(\"count()\")\n",
    ")"
   ]
  },
  {
   "cell_type": "code",
   "execution_count": 146,
   "metadata": {},
   "outputs": [
    {
     "data": {
      "text/plain": [
       "\u001b[0;31mInit signature:\u001b[0m\n",
       "\u001b[0malt\u001b[0m\u001b[0;34m.\u001b[0m\u001b[0mAxis\u001b[0m\u001b[0;34m(\u001b[0m\u001b[0;34m\u001b[0m\n",
       "\u001b[0;34m\u001b[0m    \u001b[0mbandPosition\u001b[0m\u001b[0;34m=\u001b[0m\u001b[0mUndefined\u001b[0m\u001b[0;34m,\u001b[0m\u001b[0;34m\u001b[0m\n",
       "\u001b[0;34m\u001b[0m    \u001b[0mdomain\u001b[0m\u001b[0;34m=\u001b[0m\u001b[0mUndefined\u001b[0m\u001b[0;34m,\u001b[0m\u001b[0;34m\u001b[0m\n",
       "\u001b[0;34m\u001b[0m    \u001b[0mdomainColor\u001b[0m\u001b[0;34m=\u001b[0m\u001b[0mUndefined\u001b[0m\u001b[0;34m,\u001b[0m\u001b[0;34m\u001b[0m\n",
       "\u001b[0;34m\u001b[0m    \u001b[0mdomainDash\u001b[0m\u001b[0;34m=\u001b[0m\u001b[0mUndefined\u001b[0m\u001b[0;34m,\u001b[0m\u001b[0;34m\u001b[0m\n",
       "\u001b[0;34m\u001b[0m    \u001b[0mdomainDashOffset\u001b[0m\u001b[0;34m=\u001b[0m\u001b[0mUndefined\u001b[0m\u001b[0;34m,\u001b[0m\u001b[0;34m\u001b[0m\n",
       "\u001b[0;34m\u001b[0m    \u001b[0mdomainOpacity\u001b[0m\u001b[0;34m=\u001b[0m\u001b[0mUndefined\u001b[0m\u001b[0;34m,\u001b[0m\u001b[0;34m\u001b[0m\n",
       "\u001b[0;34m\u001b[0m    \u001b[0mdomainWidth\u001b[0m\u001b[0;34m=\u001b[0m\u001b[0mUndefined\u001b[0m\u001b[0;34m,\u001b[0m\u001b[0;34m\u001b[0m\n",
       "\u001b[0;34m\u001b[0m    \u001b[0mformat\u001b[0m\u001b[0;34m=\u001b[0m\u001b[0mUndefined\u001b[0m\u001b[0;34m,\u001b[0m\u001b[0;34m\u001b[0m\n",
       "\u001b[0;34m\u001b[0m    \u001b[0mformatType\u001b[0m\u001b[0;34m=\u001b[0m\u001b[0mUndefined\u001b[0m\u001b[0;34m,\u001b[0m\u001b[0;34m\u001b[0m\n",
       "\u001b[0;34m\u001b[0m    \u001b[0mgrid\u001b[0m\u001b[0;34m=\u001b[0m\u001b[0mUndefined\u001b[0m\u001b[0;34m,\u001b[0m\u001b[0;34m\u001b[0m\n",
       "\u001b[0;34m\u001b[0m    \u001b[0mgridColor\u001b[0m\u001b[0;34m=\u001b[0m\u001b[0mUndefined\u001b[0m\u001b[0;34m,\u001b[0m\u001b[0;34m\u001b[0m\n",
       "\u001b[0;34m\u001b[0m    \u001b[0mgridDash\u001b[0m\u001b[0;34m=\u001b[0m\u001b[0mUndefined\u001b[0m\u001b[0;34m,\u001b[0m\u001b[0;34m\u001b[0m\n",
       "\u001b[0;34m\u001b[0m    \u001b[0mgridDashOffset\u001b[0m\u001b[0;34m=\u001b[0m\u001b[0mUndefined\u001b[0m\u001b[0;34m,\u001b[0m\u001b[0;34m\u001b[0m\n",
       "\u001b[0;34m\u001b[0m    \u001b[0mgridOpacity\u001b[0m\u001b[0;34m=\u001b[0m\u001b[0mUndefined\u001b[0m\u001b[0;34m,\u001b[0m\u001b[0;34m\u001b[0m\n",
       "\u001b[0;34m\u001b[0m    \u001b[0mgridWidth\u001b[0m\u001b[0;34m=\u001b[0m\u001b[0mUndefined\u001b[0m\u001b[0;34m,\u001b[0m\u001b[0;34m\u001b[0m\n",
       "\u001b[0;34m\u001b[0m    \u001b[0mlabelAlign\u001b[0m\u001b[0;34m=\u001b[0m\u001b[0mUndefined\u001b[0m\u001b[0;34m,\u001b[0m\u001b[0;34m\u001b[0m\n",
       "\u001b[0;34m\u001b[0m    \u001b[0mlabelAngle\u001b[0m\u001b[0;34m=\u001b[0m\u001b[0mUndefined\u001b[0m\u001b[0;34m,\u001b[0m\u001b[0;34m\u001b[0m\n",
       "\u001b[0;34m\u001b[0m    \u001b[0mlabelBaseline\u001b[0m\u001b[0;34m=\u001b[0m\u001b[0mUndefined\u001b[0m\u001b[0;34m,\u001b[0m\u001b[0;34m\u001b[0m\n",
       "\u001b[0;34m\u001b[0m    \u001b[0mlabelBound\u001b[0m\u001b[0;34m=\u001b[0m\u001b[0mUndefined\u001b[0m\u001b[0;34m,\u001b[0m\u001b[0;34m\u001b[0m\n",
       "\u001b[0;34m\u001b[0m    \u001b[0mlabelColor\u001b[0m\u001b[0;34m=\u001b[0m\u001b[0mUndefined\u001b[0m\u001b[0;34m,\u001b[0m\u001b[0;34m\u001b[0m\n",
       "\u001b[0;34m\u001b[0m    \u001b[0mlabelFlush\u001b[0m\u001b[0;34m=\u001b[0m\u001b[0mUndefined\u001b[0m\u001b[0;34m,\u001b[0m\u001b[0;34m\u001b[0m\n",
       "\u001b[0;34m\u001b[0m    \u001b[0mlabelFlushOffset\u001b[0m\u001b[0;34m=\u001b[0m\u001b[0mUndefined\u001b[0m\u001b[0;34m,\u001b[0m\u001b[0;34m\u001b[0m\n",
       "\u001b[0;34m\u001b[0m    \u001b[0mlabelFont\u001b[0m\u001b[0;34m=\u001b[0m\u001b[0mUndefined\u001b[0m\u001b[0;34m,\u001b[0m\u001b[0;34m\u001b[0m\n",
       "\u001b[0;34m\u001b[0m    \u001b[0mlabelFontSize\u001b[0m\u001b[0;34m=\u001b[0m\u001b[0mUndefined\u001b[0m\u001b[0;34m,\u001b[0m\u001b[0;34m\u001b[0m\n",
       "\u001b[0;34m\u001b[0m    \u001b[0mlabelFontStyle\u001b[0m\u001b[0;34m=\u001b[0m\u001b[0mUndefined\u001b[0m\u001b[0;34m,\u001b[0m\u001b[0;34m\u001b[0m\n",
       "\u001b[0;34m\u001b[0m    \u001b[0mlabelFontWeight\u001b[0m\u001b[0;34m=\u001b[0m\u001b[0mUndefined\u001b[0m\u001b[0;34m,\u001b[0m\u001b[0;34m\u001b[0m\n",
       "\u001b[0;34m\u001b[0m    \u001b[0mlabelLimit\u001b[0m\u001b[0;34m=\u001b[0m\u001b[0mUndefined\u001b[0m\u001b[0;34m,\u001b[0m\u001b[0;34m\u001b[0m\n",
       "\u001b[0;34m\u001b[0m    \u001b[0mlabelOpacity\u001b[0m\u001b[0;34m=\u001b[0m\u001b[0mUndefined\u001b[0m\u001b[0;34m,\u001b[0m\u001b[0;34m\u001b[0m\n",
       "\u001b[0;34m\u001b[0m    \u001b[0mlabelOverlap\u001b[0m\u001b[0;34m=\u001b[0m\u001b[0mUndefined\u001b[0m\u001b[0;34m,\u001b[0m\u001b[0;34m\u001b[0m\n",
       "\u001b[0;34m\u001b[0m    \u001b[0mlabelPadding\u001b[0m\u001b[0;34m=\u001b[0m\u001b[0mUndefined\u001b[0m\u001b[0;34m,\u001b[0m\u001b[0;34m\u001b[0m\n",
       "\u001b[0;34m\u001b[0m    \u001b[0mlabelSeparation\u001b[0m\u001b[0;34m=\u001b[0m\u001b[0mUndefined\u001b[0m\u001b[0;34m,\u001b[0m\u001b[0;34m\u001b[0m\n",
       "\u001b[0;34m\u001b[0m    \u001b[0mlabels\u001b[0m\u001b[0;34m=\u001b[0m\u001b[0mUndefined\u001b[0m\u001b[0;34m,\u001b[0m\u001b[0;34m\u001b[0m\n",
       "\u001b[0;34m\u001b[0m    \u001b[0mmaxExtent\u001b[0m\u001b[0;34m=\u001b[0m\u001b[0mUndefined\u001b[0m\u001b[0;34m,\u001b[0m\u001b[0;34m\u001b[0m\n",
       "\u001b[0;34m\u001b[0m    \u001b[0mminExtent\u001b[0m\u001b[0;34m=\u001b[0m\u001b[0mUndefined\u001b[0m\u001b[0;34m,\u001b[0m\u001b[0;34m\u001b[0m\n",
       "\u001b[0;34m\u001b[0m    \u001b[0moffset\u001b[0m\u001b[0;34m=\u001b[0m\u001b[0mUndefined\u001b[0m\u001b[0;34m,\u001b[0m\u001b[0;34m\u001b[0m\n",
       "\u001b[0;34m\u001b[0m    \u001b[0morient\u001b[0m\u001b[0;34m=\u001b[0m\u001b[0mUndefined\u001b[0m\u001b[0;34m,\u001b[0m\u001b[0;34m\u001b[0m\n",
       "\u001b[0;34m\u001b[0m    \u001b[0mposition\u001b[0m\u001b[0;34m=\u001b[0m\u001b[0mUndefined\u001b[0m\u001b[0;34m,\u001b[0m\u001b[0;34m\u001b[0m\n",
       "\u001b[0;34m\u001b[0m    \u001b[0mtickColor\u001b[0m\u001b[0;34m=\u001b[0m\u001b[0mUndefined\u001b[0m\u001b[0;34m,\u001b[0m\u001b[0;34m\u001b[0m\n",
       "\u001b[0;34m\u001b[0m    \u001b[0mtickCount\u001b[0m\u001b[0;34m=\u001b[0m\u001b[0mUndefined\u001b[0m\u001b[0;34m,\u001b[0m\u001b[0;34m\u001b[0m\n",
       "\u001b[0;34m\u001b[0m    \u001b[0mtickDash\u001b[0m\u001b[0;34m=\u001b[0m\u001b[0mUndefined\u001b[0m\u001b[0;34m,\u001b[0m\u001b[0;34m\u001b[0m\n",
       "\u001b[0;34m\u001b[0m    \u001b[0mtickDashOffset\u001b[0m\u001b[0;34m=\u001b[0m\u001b[0mUndefined\u001b[0m\u001b[0;34m,\u001b[0m\u001b[0;34m\u001b[0m\n",
       "\u001b[0;34m\u001b[0m    \u001b[0mtickExtra\u001b[0m\u001b[0;34m=\u001b[0m\u001b[0mUndefined\u001b[0m\u001b[0;34m,\u001b[0m\u001b[0;34m\u001b[0m\n",
       "\u001b[0;34m\u001b[0m    \u001b[0mtickMinStep\u001b[0m\u001b[0;34m=\u001b[0m\u001b[0mUndefined\u001b[0m\u001b[0;34m,\u001b[0m\u001b[0;34m\u001b[0m\n",
       "\u001b[0;34m\u001b[0m    \u001b[0mtickOffset\u001b[0m\u001b[0;34m=\u001b[0m\u001b[0mUndefined\u001b[0m\u001b[0;34m,\u001b[0m\u001b[0;34m\u001b[0m\n",
       "\u001b[0;34m\u001b[0m    \u001b[0mtickOpacity\u001b[0m\u001b[0;34m=\u001b[0m\u001b[0mUndefined\u001b[0m\u001b[0;34m,\u001b[0m\u001b[0;34m\u001b[0m\n",
       "\u001b[0;34m\u001b[0m    \u001b[0mtickRound\u001b[0m\u001b[0;34m=\u001b[0m\u001b[0mUndefined\u001b[0m\u001b[0;34m,\u001b[0m\u001b[0;34m\u001b[0m\n",
       "\u001b[0;34m\u001b[0m    \u001b[0mtickSize\u001b[0m\u001b[0;34m=\u001b[0m\u001b[0mUndefined\u001b[0m\u001b[0;34m,\u001b[0m\u001b[0;34m\u001b[0m\n",
       "\u001b[0;34m\u001b[0m    \u001b[0mtickWidth\u001b[0m\u001b[0;34m=\u001b[0m\u001b[0mUndefined\u001b[0m\u001b[0;34m,\u001b[0m\u001b[0;34m\u001b[0m\n",
       "\u001b[0;34m\u001b[0m    \u001b[0mticks\u001b[0m\u001b[0;34m=\u001b[0m\u001b[0mUndefined\u001b[0m\u001b[0;34m,\u001b[0m\u001b[0;34m\u001b[0m\n",
       "\u001b[0;34m\u001b[0m    \u001b[0mtitle\u001b[0m\u001b[0;34m=\u001b[0m\u001b[0mUndefined\u001b[0m\u001b[0;34m,\u001b[0m\u001b[0;34m\u001b[0m\n",
       "\u001b[0;34m\u001b[0m    \u001b[0mtitleAlign\u001b[0m\u001b[0;34m=\u001b[0m\u001b[0mUndefined\u001b[0m\u001b[0;34m,\u001b[0m\u001b[0;34m\u001b[0m\n",
       "\u001b[0;34m\u001b[0m    \u001b[0mtitleAnchor\u001b[0m\u001b[0;34m=\u001b[0m\u001b[0mUndefined\u001b[0m\u001b[0;34m,\u001b[0m\u001b[0;34m\u001b[0m\n",
       "\u001b[0;34m\u001b[0m    \u001b[0mtitleAngle\u001b[0m\u001b[0;34m=\u001b[0m\u001b[0mUndefined\u001b[0m\u001b[0;34m,\u001b[0m\u001b[0;34m\u001b[0m\n",
       "\u001b[0;34m\u001b[0m    \u001b[0mtitleBaseline\u001b[0m\u001b[0;34m=\u001b[0m\u001b[0mUndefined\u001b[0m\u001b[0;34m,\u001b[0m\u001b[0;34m\u001b[0m\n",
       "\u001b[0;34m\u001b[0m    \u001b[0mtitleColor\u001b[0m\u001b[0;34m=\u001b[0m\u001b[0mUndefined\u001b[0m\u001b[0;34m,\u001b[0m\u001b[0;34m\u001b[0m\n",
       "\u001b[0;34m\u001b[0m    \u001b[0mtitleFont\u001b[0m\u001b[0;34m=\u001b[0m\u001b[0mUndefined\u001b[0m\u001b[0;34m,\u001b[0m\u001b[0;34m\u001b[0m\n",
       "\u001b[0;34m\u001b[0m    \u001b[0mtitleFontSize\u001b[0m\u001b[0;34m=\u001b[0m\u001b[0mUndefined\u001b[0m\u001b[0;34m,\u001b[0m\u001b[0;34m\u001b[0m\n",
       "\u001b[0;34m\u001b[0m    \u001b[0mtitleFontStyle\u001b[0m\u001b[0;34m=\u001b[0m\u001b[0mUndefined\u001b[0m\u001b[0;34m,\u001b[0m\u001b[0;34m\u001b[0m\n",
       "\u001b[0;34m\u001b[0m    \u001b[0mtitleFontWeight\u001b[0m\u001b[0;34m=\u001b[0m\u001b[0mUndefined\u001b[0m\u001b[0;34m,\u001b[0m\u001b[0;34m\u001b[0m\n",
       "\u001b[0;34m\u001b[0m    \u001b[0mtitleLimit\u001b[0m\u001b[0;34m=\u001b[0m\u001b[0mUndefined\u001b[0m\u001b[0;34m,\u001b[0m\u001b[0;34m\u001b[0m\n",
       "\u001b[0;34m\u001b[0m    \u001b[0mtitleOpacity\u001b[0m\u001b[0;34m=\u001b[0m\u001b[0mUndefined\u001b[0m\u001b[0;34m,\u001b[0m\u001b[0;34m\u001b[0m\n",
       "\u001b[0;34m\u001b[0m    \u001b[0mtitlePadding\u001b[0m\u001b[0;34m=\u001b[0m\u001b[0mUndefined\u001b[0m\u001b[0;34m,\u001b[0m\u001b[0;34m\u001b[0m\n",
       "\u001b[0;34m\u001b[0m    \u001b[0mtitleX\u001b[0m\u001b[0;34m=\u001b[0m\u001b[0mUndefined\u001b[0m\u001b[0;34m,\u001b[0m\u001b[0;34m\u001b[0m\n",
       "\u001b[0;34m\u001b[0m    \u001b[0mtitleY\u001b[0m\u001b[0;34m=\u001b[0m\u001b[0mUndefined\u001b[0m\u001b[0;34m,\u001b[0m\u001b[0;34m\u001b[0m\n",
       "\u001b[0;34m\u001b[0m    \u001b[0mvalues\u001b[0m\u001b[0;34m=\u001b[0m\u001b[0mUndefined\u001b[0m\u001b[0;34m,\u001b[0m\u001b[0;34m\u001b[0m\n",
       "\u001b[0;34m\u001b[0m    \u001b[0mzindex\u001b[0m\u001b[0;34m=\u001b[0m\u001b[0mUndefined\u001b[0m\u001b[0;34m,\u001b[0m\u001b[0;34m\u001b[0m\n",
       "\u001b[0;34m\u001b[0m    \u001b[0;34m**\u001b[0m\u001b[0mkwds\u001b[0m\u001b[0;34m,\u001b[0m\u001b[0;34m\u001b[0m\n",
       "\u001b[0;34m\u001b[0m\u001b[0;34m)\u001b[0m\u001b[0;34m\u001b[0m\u001b[0;34m\u001b[0m\u001b[0m\n",
       "\u001b[0;31mDocstring:\u001b[0m     \n",
       "Axis schema wrapper\n",
       "\n",
       "Mapping(required=[])\n",
       "\n",
       "Attributes\n",
       "----------\n",
       "\n",
       "bandPosition : float\n",
       "    An interpolation fraction indicating where, for ``band`` scales, axis ticks should\n",
       "    be positioned. A value of ``0`` places ticks at the left edge of their bands. A\n",
       "    value of ``0.5`` places ticks in the middle of their bands.\n",
       "\n",
       "    **Default value:** ``0.5``\n",
       "domain : boolean\n",
       "    A boolean flag indicating if the domain (the axis baseline) should be included as\n",
       "    part of the axis.\n",
       "\n",
       "    **Default value:** ``true``\n",
       "domainColor : :class:`Color`\n",
       "    Color of axis domain line.\n",
       "\n",
       "    **Default value:** ``\"gray\"``.\n",
       "domainDash : List(float)\n",
       "    An array of alternating [stroke, space] lengths for dashed domain lines.\n",
       "domainDashOffset : float\n",
       "    The pixel offset at which to start drawing with the domain dash array.\n",
       "domainOpacity : float\n",
       "    Opacity of the axis domain line.\n",
       "domainWidth : float\n",
       "    Stroke width of axis domain line\n",
       "\n",
       "    **Default value:** ``1``\n",
       "format : string\n",
       "    The text formatting pattern for labels of guides (axes, legends, headers) and text\n",
       "    marks.\n",
       "\n",
       "\n",
       "    * If the format type is ``\"number\"`` (e.g., for quantitative fields), this is D3's\n",
       "      `number format pattern <https://github.com/d3/d3-format#locale_format>`__.\n",
       "    * If the format type is ``\"time\"`` (e.g., for temporal fields), this is D3's `time\n",
       "      format pattern <https://github.com/d3/d3-time-format#locale_format>`__.\n",
       "\n",
       "    See the `format documentation <https://vega.github.io/vega-lite/docs/format.html>`__\n",
       "    for more examples.\n",
       "\n",
       "    **Default value:**  Derived from `numberFormat\n",
       "    <https://vega.github.io/vega-lite/docs/config.html#format>`__ config for number\n",
       "    format and from `timeFormat\n",
       "    <https://vega.github.io/vega-lite/docs/config.html#format>`__ config for time\n",
       "    format.\n",
       "formatType : enum('number', 'time')\n",
       "    The format type for labels ( ``\"number\"`` or ``\"time\"`` ).\n",
       "\n",
       "    **Default value:**\n",
       "\n",
       "\n",
       "    * ``\"time\"`` for temporal fields and ordinal and nomimal fields with ``timeUnit``.\n",
       "    * ``\"number\"`` for quantitative fields as well as ordinal and nomimal fields without\n",
       "      ``timeUnit``.\n",
       "grid : boolean\n",
       "    A boolean flag indicating if grid lines should be included as part of the axis\n",
       "\n",
       "    **Default value:** ``true`` for `continuous scales\n",
       "    <https://vega.github.io/vega-lite/docs/scale.html#continuous>`__ that are not\n",
       "    binned; otherwise, ``false``.\n",
       "gridColor : :class:`Color`\n",
       "    Color of gridlines.\n",
       "\n",
       "    **Default value:** ``\"lightGray\"``.\n",
       "gridDash : List(float)\n",
       "    An array of alternating [stroke, space] lengths for dashed grid lines.\n",
       "gridDashOffset : float\n",
       "    The pixel offset at which to start drawing with the grid dash array.\n",
       "gridOpacity : float\n",
       "    The stroke opacity of grid (value between [0,1])\n",
       "\n",
       "    **Default value:** ``1``\n",
       "gridWidth : float\n",
       "    The grid width, in pixels.\n",
       "\n",
       "    **Default value:** ``1``\n",
       "labelAlign : :class:`Align`\n",
       "    Horizontal text alignment of axis tick labels, overriding the default setting for\n",
       "    the current axis orientation.\n",
       "labelAngle : float\n",
       "    The rotation angle of the axis labels.\n",
       "\n",
       "    **Default value:** ``-90`` for nominal and ordinal fields; ``0`` otherwise.\n",
       "labelBaseline : :class:`TextBaseline`\n",
       "    Vertical text baseline of axis tick labels, overriding the default setting for the\n",
       "    current axis orientation. Can be ``\"top\"``, ``\"middle\"``, ``\"bottom\"``, or\n",
       "    ``\"alphabetic\"``.\n",
       "labelBound : anyOf(float, boolean)\n",
       "    Indicates if labels should be hidden if they exceed the axis range. If ``false``\n",
       "    (the default) no bounds overlap analysis is performed. If ``true``, labels will be\n",
       "    hidden if they exceed the axis range by more than 1 pixel. If this property is a\n",
       "    number, it specifies the pixel tolerance: the maximum amount by which a label\n",
       "    bounding box may exceed the axis range.\n",
       "\n",
       "    **Default value:** ``false``.\n",
       "labelColor : :class:`Color`\n",
       "    The color of the tick label, can be in hex color code or regular color name.\n",
       "labelFlush : anyOf(boolean, float)\n",
       "    Indicates if the first and last axis labels should be aligned flush with the scale\n",
       "    range. Flush alignment for a horizontal axis will left-align the first label and\n",
       "    right-align the last label. For vertical axes, bottom and top text baselines are\n",
       "    applied instead. If this property is a number, it also indicates the number of\n",
       "    pixels by which to offset the first and last labels; for example, a value of 2 will\n",
       "    flush-align the first and last labels and also push them 2 pixels outward from the\n",
       "    center of the axis. The additional adjustment can sometimes help the labels better\n",
       "    visually group with corresponding axis ticks.\n",
       "\n",
       "    **Default value:** ``true`` for axis of a continuous x-scale. Otherwise, ``false``.\n",
       "labelFlushOffset : float\n",
       "    Indicates the number of pixels by which to offset flush-adjusted labels. For\n",
       "    example, a value of ``2`` will push flush-adjusted labels 2 pixels outward from the\n",
       "    center of the axis. Offsets can help the labels better visually group with\n",
       "    corresponding axis ticks.\n",
       "\n",
       "    **Default value:** ``0``.\n",
       "labelFont : string\n",
       "    The font of the tick label.\n",
       "labelFontSize : float\n",
       "    The font size of the label, in pixels.\n",
       "labelFontStyle : :class:`FontStyle`\n",
       "    Font style of the title.\n",
       "labelFontWeight : :class:`FontWeight`\n",
       "    Font weight of axis tick labels.\n",
       "labelLimit : float\n",
       "    Maximum allowed pixel width of axis tick labels.\n",
       "\n",
       "    **Default value:** ``180``\n",
       "labelOpacity : float\n",
       "    The opacity of the labels.\n",
       "labelOverlap : :class:`LabelOverlap`\n",
       "    The strategy to use for resolving overlap of axis labels. If ``false`` (the\n",
       "    default), no overlap reduction is attempted. If set to ``true`` or ``\"parity\"``, a\n",
       "    strategy of removing every other label is used (this works well for standard linear\n",
       "    axes). If set to ``\"greedy\"``, a linear scan of the labels is performed, removing\n",
       "    any labels that overlaps with the last visible label (this often works better for\n",
       "    log-scaled axes).\n",
       "\n",
       "    **Default value:** ``true`` for non-nominal fields with non-log scales; ``\"greedy\"``\n",
       "    for log scales; otherwise ``false``.\n",
       "labelPadding : float\n",
       "    The padding, in pixels, between axis and text labels.\n",
       "\n",
       "    **Default value:** ``2``\n",
       "labelSeparation : float\n",
       "    The minimum separation that must be between label bounding boxes for them to be\n",
       "    considered non-overlapping (default ``0`` ). This property is ignored if\n",
       "    *labelOverlap* resolution is not enabled.\n",
       "labels : boolean\n",
       "    A boolean flag indicating if labels should be included as part of the axis.\n",
       "\n",
       "    **Default value:** ``true``.\n",
       "maxExtent : float\n",
       "    The maximum extent in pixels that axis ticks and labels should use. This determines\n",
       "    a maximum offset value for axis titles.\n",
       "\n",
       "    **Default value:** ``undefined``.\n",
       "minExtent : float\n",
       "    The minimum extent in pixels that axis ticks and labels should use. This determines\n",
       "    a minimum offset value for axis titles.\n",
       "\n",
       "    **Default value:** ``30`` for y-axis; ``undefined`` for x-axis.\n",
       "offset : float\n",
       "    The offset, in pixels, by which to displace the axis from the edge of the enclosing\n",
       "    group or data rectangle.\n",
       "\n",
       "    **Default value:** derived from the `axis config\n",
       "    <https://vega.github.io/vega-lite/docs/config.html#facet-scale-config>`__ 's\n",
       "    ``offset`` ( ``0`` by default)\n",
       "orient : :class:`AxisOrient`\n",
       "    The orientation of the axis. One of ``\"top\"``, ``\"bottom\"``, ``\"left\"`` or\n",
       "    ``\"right\"``. The orientation can be used to further specialize the axis type (e.g.,\n",
       "    a y-axis oriented towards the right edge of the chart).\n",
       "\n",
       "    **Default value:** ``\"bottom\"`` for x-axes and ``\"left\"`` for y-axes.\n",
       "position : float\n",
       "    The anchor position of the axis in pixels. For x-axes with top or bottom\n",
       "    orientation, this sets the axis group x coordinate. For y-axes with left or right\n",
       "    orientation, this sets the axis group y coordinate.\n",
       "\n",
       "    **Default value** : ``0``\n",
       "tickColor : :class:`Color`\n",
       "    The color of the axis's tick.\n",
       "\n",
       "    **Default value:** ``\"gray\"``\n",
       "tickCount : float\n",
       "    A desired number of ticks, for axes visualizing quantitative scales. The resulting\n",
       "    number may be different so that values are \"nice\" (multiples of 2, 5, 10) and lie\n",
       "    within the underlying scale's range.\n",
       "tickDash : List(float)\n",
       "    An array of alternating [stroke, space] lengths for dashed tick mark lines.\n",
       "tickDashOffset : float\n",
       "    The pixel offset at which to start drawing with the tick mark dash array.\n",
       "tickExtra : boolean\n",
       "    Boolean flag indicating if an extra axis tick should be added for the initial\n",
       "    position of the axis. This flag is useful for styling axes for ``band`` scales such\n",
       "    that ticks are placed on band boundaries rather in the middle of a band. Use in\n",
       "    conjunction with ``\"bandPosition\": 1`` and an axis ``\"padding\"`` value of ``0``.\n",
       "tickMinStep : float\n",
       "    The minimum desired step between axis ticks, in terms of scale domain values. For\n",
       "    example, a value of ``1`` indicates that ticks should not be less than 1 unit apart.\n",
       "    If ``tickMinStep`` is specified, the ``tickCount`` value will be adjusted, if\n",
       "    necessary, to enforce the minimum step value.\n",
       "\n",
       "    **Default value** : ``undefined``\n",
       "tickOffset : float\n",
       "    Position offset in pixels to apply to ticks, labels, and gridlines.\n",
       "tickOpacity : float\n",
       "    Opacity of the ticks.\n",
       "tickRound : boolean\n",
       "    Boolean flag indicating if pixel position values should be rounded to the nearest\n",
       "    integer.\n",
       "\n",
       "    **Default value:** ``true``\n",
       "tickSize : float\n",
       "    The size in pixels of axis ticks.\n",
       "\n",
       "    **Default value:** ``5``\n",
       "tickWidth : float\n",
       "    The width, in pixels, of ticks.\n",
       "\n",
       "    **Default value:** ``1``\n",
       "ticks : boolean\n",
       "    Boolean value that determines whether the axis should include ticks.\n",
       "\n",
       "    **Default value:** ``true``\n",
       "title : anyOf(string, None)\n",
       "    A title for the field. If ``null``, the title will be removed.\n",
       "\n",
       "    **Default value:**  derived from the field's name and transformation function (\n",
       "    ``aggregate``, ``bin`` and ``timeUnit`` ).  If the field has an aggregate function,\n",
       "    the function is displayed as part of the title (e.g., ``\"Sum of Profit\"`` ). If the\n",
       "    field is binned or has a time unit applied, the applied function is shown in\n",
       "    parentheses (e.g., ``\"Profit (binned)\"``, ``\"Transaction Date (year-month)\"`` ).\n",
       "    Otherwise, the title is simply the field name.\n",
       "\n",
       "    **Notes** :\n",
       "\n",
       "    1) You can customize the default field title format by providing the `fieldTitle\n",
       "    <https://vega.github.io/vega-lite/docs/config.html#top-level-config>`__ property in\n",
       "    the `config <https://vega.github.io/vega-lite/docs/config.html>`__ or `fieldTitle\n",
       "    function via the compile function's options\n",
       "    <https://vega.github.io/vega-lite/docs/compile.html#field-title>`__.\n",
       "\n",
       "    2) If both field definition's ``title`` and axis, header, or legend ``title`` are\n",
       "    defined, axis/header/legend title will be used.\n",
       "titleAlign : :class:`Align`\n",
       "    Horizontal text alignment of axis titles.\n",
       "titleAnchor : :class:`TitleAnchor`\n",
       "    Text anchor position for placing axis titles.\n",
       "titleAngle : float\n",
       "    Angle in degrees of axis titles.\n",
       "titleBaseline : :class:`TextBaseline`\n",
       "    Vertical text baseline for axis titles.\n",
       "titleColor : :class:`Color`\n",
       "    Color of the title, can be in hex color code or regular color name.\n",
       "titleFont : string\n",
       "    Font of the title. (e.g., ``\"Helvetica Neue\"`` ).\n",
       "titleFontSize : float\n",
       "    Font size of the title.\n",
       "titleFontStyle : :class:`FontStyle`\n",
       "    Font style of the title.\n",
       "titleFontWeight : :class:`FontWeight`\n",
       "    Font weight of the title.\n",
       "    This can be either a string (e.g ``\"bold\"``, ``\"normal\"`` ) or a number ( ``100``,\n",
       "    ``200``, ``300``, ..., ``900`` where ``\"normal\"`` = ``400`` and ``\"bold\"`` = ``700``\n",
       "    ).\n",
       "titleLimit : float\n",
       "    Maximum allowed pixel width of axis titles.\n",
       "titleOpacity : float\n",
       "    Opacity of the axis title.\n",
       "titlePadding : float\n",
       "    The padding, in pixels, between title and axis.\n",
       "titleX : float\n",
       "    X-coordinate of the axis title relative to the axis group.\n",
       "titleY : float\n",
       "    Y-coordinate of the axis title relative to the axis group.\n",
       "values : anyOf(List(float), List(string), List(boolean), List(:class:`DateTime`))\n",
       "    Explicitly set the visible axis tick values.\n",
       "zindex : float\n",
       "    A non-negative integer indicating the z-index of the axis.\n",
       "    If zindex is 0, axes should be drawn behind all chart elements.\n",
       "    To put them in front, use ``\"zindex = 1\"``.\n",
       "\n",
       "    **Default value:** ``1`` (in front of the marks) for actual axis and ``0`` (behind\n",
       "    the marks) for grids.\n",
       "\u001b[0;31mFile:\u001b[0m           ~/miniconda3/envs/vis/lib/python3.6/site-packages/altair/vegalite/v3/schema/core.py\n",
       "\u001b[0;31mType:\u001b[0m           type\n",
       "\u001b[0;31mSubclasses:\u001b[0m     \n"
      ]
     },
     "metadata": {},
     "output_type": "display_data"
    }
   ],
   "source": [
    "alt.Axis?"
   ]
  },
  {
   "cell_type": "code",
   "execution_count": null,
   "metadata": {},
   "outputs": [],
   "source": []
  }
 ],
 "metadata": {
  "kernelspec": {
   "display_name": "Python 3",
   "language": "python",
   "name": "python3"
  },
  "language_info": {
   "codemirror_mode": {
    "name": "ipython",
    "version": 3
   },
   "file_extension": ".py",
   "mimetype": "text/x-python",
   "name": "python",
   "nbconvert_exporter": "python",
   "pygments_lexer": "ipython3",
   "version": "3.6.7"
  }
 },
 "nbformat": 4,
 "nbformat_minor": 4
}
