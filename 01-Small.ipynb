{
 "cells": [
  {
   "cell_type": "markdown",
   "metadata": {},
   "source": [
    "## Getting Started\n",
    "\n",
    "This is the basic exercise to familiarise yourself with using altair to create the data visualisations in python\n",
    "\n",
    "We will use the sample data set to create the visualisation"
   ]
  },
  {
   "cell_type": "markdown",
   "metadata": {},
   "source": [
    "## Imports"
   ]
  },
  {
   "cell_type": "code",
   "execution_count": 7,
   "metadata": {},
   "outputs": [],
   "source": [
    "import numpy as np\n",
    "import pandas as pd\n",
    "import altair as alt"
   ]
  },
  {
   "cell_type": "markdown",
   "metadata": {},
   "source": [
    "## Renderers\n",
    "\n",
    "To enable javascript linked rendered for your enviornment, you may need to install a renderer for Altair.\n",
    "- If you are using JupyterLab, you don't need to do anything.\n",
    "- If you are using Jupyter Notebook, you need to enable the notebook renderer.\n"
   ]
  },
  {
   "cell_type": "code",
   "execution_count": 9,
   "metadata": {},
   "outputs": [],
   "source": [
    "# For Jupyter Notebook (not JupyterLab) environment\n",
    "# alt.renderers.enable('notebook')"
   ]
  },
  {
   "cell_type": "markdown",
   "metadata": {},
   "source": [
    "## Data\n",
    "\n",
    "Altair works on a \"long format\" Pandas dataframes. Let us get a small sample dataset to work with."
   ]
  },
  {
   "cell_type": "code",
   "execution_count": 11,
   "metadata": {},
   "outputs": [
    {
     "data": {
      "text/html": [
       "<div>\n",
       "<style scoped>\n",
       "    .dataframe tbody tr th:only-of-type {\n",
       "        vertical-align: middle;\n",
       "    }\n",
       "\n",
       "    .dataframe tbody tr th {\n",
       "        vertical-align: top;\n",
       "    }\n",
       "\n",
       "    .dataframe thead th {\n",
       "        text-align: right;\n",
       "    }\n",
       "</style>\n",
       "<table border=\"1\" class=\"dataframe\">\n",
       "  <thead>\n",
       "    <tr style=\"text-align: right;\">\n",
       "      <th></th>\n",
       "      <th>area</th>\n",
       "      <th>sales</th>\n",
       "      <th>profit</th>\n",
       "    </tr>\n",
       "  </thead>\n",
       "  <tbody>\n",
       "    <tr>\n",
       "      <td>0</td>\n",
       "      <td>North</td>\n",
       "      <td>5</td>\n",
       "      <td>2</td>\n",
       "    </tr>\n",
       "    <tr>\n",
       "      <td>1</td>\n",
       "      <td>East</td>\n",
       "      <td>25</td>\n",
       "      <td>8</td>\n",
       "    </tr>\n",
       "    <tr>\n",
       "      <td>2</td>\n",
       "      <td>West</td>\n",
       "      <td>15</td>\n",
       "      <td>6</td>\n",
       "    </tr>\n",
       "    <tr>\n",
       "      <td>3</td>\n",
       "      <td>South</td>\n",
       "      <td>20</td>\n",
       "      <td>5</td>\n",
       "    </tr>\n",
       "    <tr>\n",
       "      <td>4</td>\n",
       "      <td>Central</td>\n",
       "      <td>10</td>\n",
       "      <td>3</td>\n",
       "    </tr>\n",
       "  </tbody>\n",
       "</table>\n",
       "</div>"
      ],
      "text/plain": [
       "      area  sales  profit\n",
       "0    North      5       2\n",
       "1     East     25       8\n",
       "2     West     15       6\n",
       "3    South     20       5\n",
       "4  Central     10       3"
      ]
     },
     "execution_count": 11,
     "metadata": {},
     "output_type": "execute_result"
    }
   ],
   "source": [
    "sample = pd.read_csv(\"data/sample.csv\")\n",
    "sample.head()"
   ]
  },
  {
   "cell_type": "code",
   "execution_count": 12,
   "metadata": {},
   "outputs": [
    {
     "data": {
      "text/plain": [
       "(5, 3)"
      ]
     },
     "execution_count": 12,
     "metadata": {},
     "output_type": "execute_result"
    }
   ],
   "source": [
    "sample.shape"
   ]
  },
  {
   "cell_type": "markdown",
   "metadata": {},
   "source": [
    "## Visualisation Grammar\n",
    "\n",
    "A basic visualisation in made up of grammar of graphics consists of the atleast the following basic units\n",
    "- **Data**: a pandas DataFrame\n",
    "- **Mark**: Point, Circle, Bar, Line, ...\n",
    "- **Encoding**: X, Y, Color, Size, ..."
   ]
  },
  {
   "cell_type": "markdown",
   "metadata": {},
   "source": [
    "### Chart Object & Data\n",
    "\n",
    "The basic object in Altair is the Chart, which takes a data frame as a single argument:"
   ]
  },
  {
   "cell_type": "code",
   "execution_count": 13,
   "metadata": {},
   "outputs": [],
   "source": [
    "vis = alt.Chart(sample)"
   ]
  },
  {
   "cell_type": "markdown",
   "metadata": {},
   "source": [
    "### Marks & Encoding Channels\n",
    "\n",
    "*Marks* are the basic geometrical shape we will use to show the data point. For the dataframe, each row will be considered for drawing this shape\n",
    "Since we have not given any position for the mark, all of them are rendered on top of each other."
   ]
  },
  {
   "cell_type": "code",
   "execution_count": 16,
   "metadata": {},
   "outputs": [
    {
     "data": {
      "application/vnd.vegalite.v3+json": {
       "$schema": "https://vega.github.io/schema/vega-lite/v3.4.0.json",
       "config": {
        "mark": {
         "tooltip": null
        },
        "view": {
         "height": 300,
         "width": 400
        }
       },
       "data": {
        "name": "data-e9a1bf97bac3c6f8642dc2ef7d8e4b49"
       },
       "datasets": {
        "data-e9a1bf97bac3c6f8642dc2ef7d8e4b49": [
         {
          "area": "North",
          "profit": 2,
          "sales": 5
         },
         {
          "area": "East",
          "profit": 8,
          "sales": 25
         },
         {
          "area": "West",
          "profit": 6,
          "sales": 15
         },
         {
          "area": "South",
          "profit": 5,
          "sales": 20
         },
         {
          "area": "Central",
          "profit": 3,
          "sales": 10
         }
        ]
       },
       "mark": "point"
      },
      "image/png": "[encoded data removed]",
      "text/plain": [
       "<VegaLite 3 object>\n",
       "\n",
       "If you see this message, it means the renderer has not been properly enabled\n",
       "for the frontend that you are using. For more information, see\n",
       "https://altair-viz.github.io/user_guide/troubleshooting.html\n"
      ]
     },
     "execution_count": 16,
     "metadata": {},
     "output_type": "execute_result"
    }
   ],
   "source": [
    "alt.Chart(sample).mark_point()"
   ]
  },
  {
   "cell_type": "markdown",
   "metadata": {},
   "source": [
    "Adding the *encoding channels* like positions will start to make the visualisation work\n",
    "\n",
    "Let us add `area` to the Position X channel"
   ]
  },
  {
   "cell_type": "code",
   "execution_count": 29,
   "metadata": {},
   "outputs": [
    {
     "data": {
      "application/vnd.vegalite.v3+json": {
       "$schema": "https://vega.github.io/schema/vega-lite/v3.4.0.json",
       "config": {
        "mark": {
         "tooltip": null
        },
        "view": {
         "height": 300,
         "width": 400
        }
       },
       "data": {
        "name": "data-e9a1bf97bac3c6f8642dc2ef7d8e4b49"
       },
       "datasets": {
        "data-e9a1bf97bac3c6f8642dc2ef7d8e4b49": [
         {
          "area": "North",
          "profit": 2,
          "sales": 5
         },
         {
          "area": "East",
          "profit": 8,
          "sales": 25
         },
         {
          "area": "West",
          "profit": 6,
          "sales": 15
         },
         {
          "area": "South",
          "profit": 5,
          "sales": 20
         },
         {
          "area": "Central",
          "profit": 3,
          "sales": 10
         }
        ]
       },
       "encoding": {
        "y": {
         "field": "area",
         "type": "nominal"
        }
       },
       "mark": "point"
      },
      "image/png": "[encoded data removed]",
      "text/plain": [
       "<VegaLite 3 object>\n",
       "\n",
       "If you see this message, it means the renderer has not been properly enabled\n",
       "for the frontend that you are using. For more information, see\n",
       "https://altair-viz.github.io/user_guide/troubleshooting.html\n"
      ]
     },
     "execution_count": 29,
     "metadata": {},
     "output_type": "execute_result"
    }
   ],
   "source": [
    "alt.Chart(sample).mark_point().encode(y=\"area\")"
   ]
  },
  {
   "cell_type": "markdown",
   "metadata": {},
   "source": [
    "Let us add `sales` to the Position Y channel"
   ]
  },
  {
   "cell_type": "code",
   "execution_count": 30,
   "metadata": {},
   "outputs": [
    {
     "data": {
      "application/vnd.vegalite.v3+json": {
       "$schema": "https://vega.github.io/schema/vega-lite/v3.4.0.json",
       "config": {
        "mark": {
         "tooltip": null
        },
        "view": {
         "height": 300,
         "width": 400
        }
       },
       "data": {
        "name": "data-e9a1bf97bac3c6f8642dc2ef7d8e4b49"
       },
       "datasets": {
        "data-e9a1bf97bac3c6f8642dc2ef7d8e4b49": [
         {
          "area": "North",
          "profit": 2,
          "sales": 5
         },
         {
          "area": "East",
          "profit": 8,
          "sales": 25
         },
         {
          "area": "West",
          "profit": 6,
          "sales": 15
         },
         {
          "area": "South",
          "profit": 5,
          "sales": 20
         },
         {
          "area": "Central",
          "profit": 3,
          "sales": 10
         }
        ]
       },
       "encoding": {
        "x": {
         "field": "sales",
         "type": "quantitative"
        },
        "y": {
         "field": "area",
         "type": "nominal"
        }
       },
       "mark": "point"
      },
      "image/png": "[encoded data removed]",
      "text/plain": [
       "<VegaLite 3 object>\n",
       "\n",
       "If you see this message, it means the renderer has not been properly enabled\n",
       "for the frontend that you are using. For more information, see\n",
       "https://altair-viz.github.io/user_guide/troubleshooting.html\n"
      ]
     },
     "execution_count": 30,
     "metadata": {},
     "output_type": "execute_result"
    }
   ],
   "source": [
    "alt.Chart(sample).mark_point().encode(\n",
    "    y=\"area\",\n",
    "    x=\"sales\"\n",
    ")"
   ]
  },
  {
   "cell_type": "markdown",
   "metadata": {},
   "source": [
    "We can also use the construction methods for encoding, using the syntax `alt.X(var_name)`"
   ]
  },
  {
   "cell_type": "code",
   "execution_count": 31,
   "metadata": {},
   "outputs": [
    {
     "data": {
      "application/vnd.vegalite.v3+json": {
       "$schema": "https://vega.github.io/schema/vega-lite/v3.4.0.json",
       "config": {
        "mark": {
         "tooltip": null
        },
        "view": {
         "height": 300,
         "width": 400
        }
       },
       "data": {
        "name": "data-e9a1bf97bac3c6f8642dc2ef7d8e4b49"
       },
       "datasets": {
        "data-e9a1bf97bac3c6f8642dc2ef7d8e4b49": [
         {
          "area": "North",
          "profit": 2,
          "sales": 5
         },
         {
          "area": "East",
          "profit": 8,
          "sales": 25
         },
         {
          "area": "West",
          "profit": 6,
          "sales": 15
         },
         {
          "area": "South",
          "profit": 5,
          "sales": 20
         },
         {
          "area": "Central",
          "profit": 3,
          "sales": 10
         }
        ]
       },
       "encoding": {
        "x": {
         "field": "sales",
         "type": "quantitative"
        },
        "y": {
         "field": "area",
         "type": "nominal"
        }
       },
       "mark": "point"
      },
      "image/png": "[encoded data removed]",
      "text/plain": [
       "<VegaLite 3 object>\n",
       "\n",
       "If you see this message, it means the renderer has not been properly enabled\n",
       "for the frontend that you are using. For more information, see\n",
       "https://altair-viz.github.io/user_guide/troubleshooting.html\n"
      ]
     },
     "execution_count": 31,
     "metadata": {},
     "output_type": "execute_result"
    }
   ],
   "source": [
    "alt.Chart(sample).mark_point().encode(\n",
    "    alt.Y(\"area\"),\n",
    "    alt.X(\"sales\")\n",
    ")"
   ]
  },
  {
   "cell_type": "markdown",
   "metadata": {},
   "source": [
    "The data type for each field is inferred automatically based on its type within the Pandas data frame. We can also explicitly indicate the data type to Altair by annotating the field name:\n",
    " - 'b:N' indicates a nominal type (unordered, categorical data),\n",
    " - 'b:O' indicates an ordinal type (rank-ordered data),\n",
    " - 'b:Q' indicates a quantitative type (numerical data with meaningful magnitudes), and\n",
    " - 'b:T' indicates a temporal type (date/time data)"
   ]
  },
  {
   "cell_type": "code",
   "execution_count": 32,
   "metadata": {},
   "outputs": [
    {
     "data": {
      "application/vnd.vegalite.v3+json": {
       "$schema": "https://vega.github.io/schema/vega-lite/v3.4.0.json",
       "config": {
        "mark": {
         "tooltip": null
        },
        "view": {
         "height": 300,
         "width": 400
        }
       },
       "data": {
        "name": "data-e9a1bf97bac3c6f8642dc2ef7d8e4b49"
       },
       "datasets": {
        "data-e9a1bf97bac3c6f8642dc2ef7d8e4b49": [
         {
          "area": "North",
          "profit": 2,
          "sales": 5
         },
         {
          "area": "East",
          "profit": 8,
          "sales": 25
         },
         {
          "area": "West",
          "profit": 6,
          "sales": 15
         },
         {
          "area": "South",
          "profit": 5,
          "sales": 20
         },
         {
          "area": "Central",
          "profit": 3,
          "sales": 10
         }
        ]
       },
       "encoding": {
        "x": {
         "field": "sales",
         "type": "quantitative"
        },
        "y": {
         "field": "area",
         "type": "nominal"
        }
       },
       "mark": "point"
      },
      "image/png": "[encoded data removed]",
      "text/plain": [
       "<VegaLite 3 object>\n",
       "\n",
       "If you see this message, it means the renderer has not been properly enabled\n",
       "for the frontend that you are using. For more information, see\n",
       "https://altair-viz.github.io/user_guide/troubleshooting.html\n"
      ]
     },
     "execution_count": 32,
     "metadata": {},
     "output_type": "execute_result"
    }
   ],
   "source": [
    "alt.Chart(sample).mark_point().encode(\n",
    "    alt.Y(\"area:N\"),\n",
    "    alt.X(\"sales:Q\")\n",
    ")"
   ]
  },
  {
   "cell_type": "markdown",
   "metadata": {},
   "source": [
    "## Marks\n",
    "\n",
    "Marks can be changed example: bar, circle, point, line, ..."
   ]
  },
  {
   "cell_type": "code",
   "execution_count": 33,
   "metadata": {},
   "outputs": [
    {
     "data": {
      "application/vnd.vegalite.v3+json": {
       "$schema": "https://vega.github.io/schema/vega-lite/v3.4.0.json",
       "config": {
        "mark": {
         "tooltip": null
        },
        "view": {
         "height": 300,
         "width": 400
        }
       },
       "data": {
        "name": "data-e9a1bf97bac3c6f8642dc2ef7d8e4b49"
       },
       "datasets": {
        "data-e9a1bf97bac3c6f8642dc2ef7d8e4b49": [
         {
          "area": "North",
          "profit": 2,
          "sales": 5
         },
         {
          "area": "East",
          "profit": 8,
          "sales": 25
         },
         {
          "area": "West",
          "profit": 6,
          "sales": 15
         },
         {
          "area": "South",
          "profit": 5,
          "sales": 20
         },
         {
          "area": "Central",
          "profit": 3,
          "sales": 10
         }
        ]
       },
       "encoding": {
        "x": {
         "field": "sales",
         "type": "quantitative"
        },
        "y": {
         "field": "area",
         "type": "nominal"
        }
       },
       "mark": "bar"
      },
      "image/png": "[encoded data removed]",
      "text/plain": [
       "<VegaLite 3 object>\n",
       "\n",
       "If you see this message, it means the renderer has not been properly enabled\n",
       "for the frontend that you are using. For more information, see\n",
       "https://altair-viz.github.io/user_guide/troubleshooting.html\n"
      ]
     },
     "execution_count": 33,
     "metadata": {},
     "output_type": "execute_result"
    }
   ],
   "source": [
    "alt.Chart(sample).mark_bar().encode(\n",
    "    alt.Y(\"area:N\"),\n",
    "    alt.X(\"sales:Q\")\n",
    ")"
   ]
  },
  {
   "cell_type": "markdown",
   "metadata": {},
   "source": [
    "## Annotations"
   ]
  },
  {
   "cell_type": "code",
   "execution_count": 35,
   "metadata": {},
   "outputs": [
    {
     "data": {
      "application/vnd.vegalite.v3+json": {
       "$schema": "https://vega.github.io/schema/vega-lite/v3.4.0.json",
       "config": {
        "mark": {
         "tooltip": null
        },
        "view": {
         "height": 300,
         "width": 400
        }
       },
       "data": {
        "name": "data-e9a1bf97bac3c6f8642dc2ef7d8e4b49"
       },
       "datasets": {
        "data-e9a1bf97bac3c6f8642dc2ef7d8e4b49": [
         {
          "area": "North",
          "profit": 2,
          "sales": 5
         },
         {
          "area": "East",
          "profit": 8,
          "sales": 25
         },
         {
          "area": "West",
          "profit": 6,
          "sales": 15
         },
         {
          "area": "South",
          "profit": 5,
          "sales": 20
         },
         {
          "area": "Central",
          "profit": 3,
          "sales": 10
         }
        ]
       },
       "encoding": {
        "x": {
         "axis": {
          "title": "Sales in Millions"
         },
         "field": "sales",
         "type": "quantitative"
        },
        "y": {
         "axis": {
          "title": "Areas"
         },
         "field": "area",
         "type": "nominal"
        }
       },
       "mark": {
        "color": "firebrick",
        "type": "bar"
       }
      },
      "image/png": "[encoded data removed]",
      "text/plain": [
       "<VegaLite 3 object>\n",
       "\n",
       "If you see this message, it means the renderer has not been properly enabled\n",
       "for the frontend that you are using. For more information, see\n",
       "https://altair-viz.github.io/user_guide/troubleshooting.html\n"
      ]
     },
     "execution_count": 35,
     "metadata": {},
     "output_type": "execute_result"
    }
   ],
   "source": [
    "alt.Chart(sample).mark_bar(color='firebrick').encode(\n",
    "  alt.X('sales', axis=alt.Axis(title='Sales in Millions')),\n",
    "  alt.Y('area', axis=alt.Axis(title='Areas')),\n",
    ")"
   ]
  },
  {
   "cell_type": "markdown",
   "metadata": {},
   "source": [
    "## Compositions"
   ]
  },
  {
   "cell_type": "markdown",
   "metadata": {},
   "source": [
    "We can combine multiple views together to compose complex visualsiation using \n",
    "- Facets\n",
    "- Concat Horizontal\n",
    "- Concat Vertical\n",
    "- Layering"
   ]
  },
  {
   "cell_type": "markdown",
   "metadata": {},
   "source": [
    "**Horizontal Concatentation**"
   ]
  },
  {
   "cell_type": "code",
   "execution_count": 56,
   "metadata": {},
   "outputs": [
    {
     "data": {
      "application/vnd.vegalite.v3+json": {
       "$schema": "https://vega.github.io/schema/vega-lite/v3.4.0.json",
       "config": {
        "mark": {
         "tooltip": null
        },
        "view": {
         "height": 300,
         "width": 400
        }
       },
       "data": {
        "name": "data-e9a1bf97bac3c6f8642dc2ef7d8e4b49"
       },
       "datasets": {
        "data-e9a1bf97bac3c6f8642dc2ef7d8e4b49": [
         {
          "area": "North",
          "profit": 2,
          "sales": 5
         },
         {
          "area": "East",
          "profit": 8,
          "sales": 25
         },
         {
          "area": "West",
          "profit": 6,
          "sales": 15
         },
         {
          "area": "South",
          "profit": 5,
          "sales": 20
         },
         {
          "area": "Central",
          "profit": 3,
          "sales": 10
         }
        ]
       },
       "hconcat": [
        {
         "encoding": {
          "x": {
           "axis": {
            "title": "Sales in Millions"
           },
           "field": "sales",
           "type": "quantitative"
          },
          "y": {
           "axis": {
            "title": "Areas"
           },
           "field": "area",
           "type": "nominal"
          }
         },
         "mark": {
          "color": "firebrick",
          "type": "bar"
         }
        },
        {
         "encoding": {
          "x": {
           "axis": {
            "title": "Profit in Millions"
           },
           "field": "profit",
           "type": "quantitative"
          },
          "y": {
           "axis": {
            "title": "Areas"
           },
           "field": "area",
           "type": "nominal"
          }
         },
         "mark": {
          "color": "blue",
          "type": "bar"
         }
        }
       ]
      },
      "image/png": "[encoded data removed]",
      "text/plain": [
       "<VegaLite 3 object>\n",
       "\n",
       "If you see this message, it means the renderer has not been properly enabled\n",
       "for the frontend that you are using. For more information, see\n",
       "https://altair-viz.github.io/user_guide/troubleshooting.html\n"
      ]
     },
     "execution_count": 56,
     "metadata": {},
     "output_type": "execute_result"
    }
   ],
   "source": [
    "sales_vis = alt.Chart(sample).mark_bar(color='firebrick').encode(\n",
    "  alt.X('sales', axis=alt.Axis(title='Sales in Millions')),\n",
    "  alt.Y('area', axis=alt.Axis(title='Areas')),\n",
    ")\n",
    "\n",
    "profit_vis = alt.Chart(sample).mark_bar(color='blue').encode(\n",
    "  alt.X('profit', axis=alt.Axis(title='Profit in Millions')),\n",
    "  alt.Y('area', axis=alt.Axis(title='Areas')),\n",
    ")\n",
    "\n",
    "sales_vis | profit_vis\n"
   ]
  },
  {
   "cell_type": "markdown",
   "metadata": {},
   "source": [
    "**Layering**"
   ]
  },
  {
   "cell_type": "code",
   "execution_count": 69,
   "metadata": {},
   "outputs": [
    {
     "data": {
      "application/vnd.vegalite.v3+json": {
       "$schema": "https://vega.github.io/schema/vega-lite/v3.4.0.json",
       "config": {
        "mark": {
         "tooltip": null
        },
        "view": {
         "height": 300,
         "width": 400
        }
       },
       "data": {
        "name": "data-e9a1bf97bac3c6f8642dc2ef7d8e4b49"
       },
       "datasets": {
        "data-e9a1bf97bac3c6f8642dc2ef7d8e4b49": [
         {
          "area": "North",
          "profit": 2,
          "sales": 5
         },
         {
          "area": "East",
          "profit": 8,
          "sales": 25
         },
         {
          "area": "West",
          "profit": 6,
          "sales": 15
         },
         {
          "area": "South",
          "profit": 5,
          "sales": 20
         },
         {
          "area": "Central",
          "profit": 3,
          "sales": 10
         }
        ]
       },
       "layer": [
        {
         "encoding": {
          "x": {
           "axis": {
            "title": "Sales in Millions"
           },
           "field": "sales",
           "type": "quantitative"
          },
          "y": {
           "axis": {
            "title": "Areas"
           },
           "field": "area",
           "type": "nominal"
          }
         },
         "mark": {
          "color": "firebrick",
          "type": "bar"
         }
        },
        {
         "encoding": {
          "x": {
           "axis": {
            "title": "Profit in Millions"
           },
           "field": "profit",
           "type": "quantitative"
          },
          "y": {
           "axis": {
            "title": "Areas"
           },
           "field": "area",
           "type": "nominal"
          }
         },
         "mark": {
          "color": "blue",
          "type": "bar"
         }
        }
       ]
      },
      "image/png": "[encoded data removed]",
      "text/plain": [
       "<VegaLite 3 object>\n",
       "\n",
       "If you see this message, it means the renderer has not been properly enabled\n",
       "for the frontend that you are using. For more information, see\n",
       "https://altair-viz.github.io/user_guide/troubleshooting.html\n"
      ]
     },
     "execution_count": 69,
     "metadata": {},
     "output_type": "execute_result"
    }
   ],
   "source": [
    "sales_vis = alt.Chart(sample).mark_bar(color='firebrick').encode(\n",
    "  alt.X('sales', axis=alt.Axis(title='Sales in Millions')),\n",
    "  alt.Y('area', axis=alt.Axis(title='Areas')),\n",
    ")\n",
    "\n",
    "profit_vis = alt.Chart(sample).mark_bar(color='blue').encode(\n",
    "  alt.X('profit', axis=alt.Axis(title='Profit in Millions')),\n",
    "  alt.Y('area', axis=alt.Axis(title='Areas')),\n",
    ")\n",
    "\n",
    "sales_vis + profit_vis"
   ]
  },
  {
   "cell_type": "markdown",
   "metadata": {},
   "source": [
    "### Interactivity\n",
    "\n",
    "To create a simple interactive plot that supports panning and zooming, we can invoke the interactive() method of the Chart object. In the chart below, click and drag to pan or use the scroll wheel to zoom:"
   ]
  },
  {
   "cell_type": "code",
   "execution_count": 70,
   "metadata": {},
   "outputs": [
    {
     "data": {
      "application/vnd.vegalite.v3+json": {
       "$schema": "https://vega.github.io/schema/vega-lite/v3.4.0.json",
       "config": {
        "mark": {
         "tooltip": null
        },
        "view": {
         "height": 300,
         "width": 400
        }
       },
       "data": {
        "name": "data-e9a1bf97bac3c6f8642dc2ef7d8e4b49"
       },
       "datasets": {
        "data-e9a1bf97bac3c6f8642dc2ef7d8e4b49": [
         {
          "area": "North",
          "profit": 2,
          "sales": 5
         },
         {
          "area": "East",
          "profit": 8,
          "sales": 25
         },
         {
          "area": "West",
          "profit": 6,
          "sales": 15
         },
         {
          "area": "South",
          "profit": 5,
          "sales": 20
         },
         {
          "area": "Central",
          "profit": 3,
          "sales": 10
         }
        ]
       },
       "encoding": {
        "color": {
         "field": "area",
         "type": "nominal"
        },
        "size": {
         "value": 500
        },
        "x": {
         "axis": {
          "title": "Sales in Millions"
         },
         "field": "sales",
         "type": "quantitative"
        },
        "y": {
         "axis": {
          "title": "Profit in Millions"
         },
         "field": "profit",
         "type": "quantitative"
        }
       },
       "mark": {
        "color": "firebrick",
        "type": "circle"
       },
       "selection": {
        "selector002": {
         "bind": "scales",
         "encodings": [
          "x",
          "y"
         ],
         "type": "interval"
        }
       }
      },
      "image/png": "[encoded data removed]",
      "text/plain": [
       "<VegaLite 3 object>\n",
       "\n",
       "If you see this message, it means the renderer has not been properly enabled\n",
       "for the frontend that you are using. For more information, see\n",
       "https://altair-viz.github.io/user_guide/troubleshooting.html\n"
      ]
     },
     "execution_count": 70,
     "metadata": {},
     "output_type": "execute_result"
    }
   ],
   "source": [
    "alt.Chart(sample).mark_circle(color='firebrick').encode(\n",
    "  alt.X('sales', axis=alt.Axis(title='Sales in Millions')),\n",
    "  alt.Y('profit', axis=alt.Axis(title='Profit in Millions')),\n",
    "  alt.Size(value=500),\n",
    "  color=\"area\"\n",
    ").interactive()"
   ]
  },
  {
   "cell_type": "markdown",
   "metadata": {},
   "source": [
    "## Vega-lite & Altair"
   ]
  },
  {
   "cell_type": "code",
   "execution_count": 73,
   "metadata": {},
   "outputs": [
    {
     "name": "stdout",
     "output_type": "stream",
     "text": [
      "{\n",
      "  \"$schema\": \"https://vega.github.io/schema/vega-lite/v3.4.0.json\",\n",
      "  \"config\": {\n",
      "    \"mark\": {\n",
      "      \"tooltip\": null\n",
      "    },\n",
      "    \"view\": {\n",
      "      \"height\": 300,\n",
      "      \"width\": 400\n",
      "    }\n",
      "  },\n",
      "  \"data\": {\n",
      "    \"name\": \"data-e9a1bf97bac3c6f8642dc2ef7d8e4b49\"\n",
      "  },\n",
      "  \"datasets\": {\n",
      "    \"data-e9a1bf97bac3c6f8642dc2ef7d8e4b49\": [\n",
      "      {\n",
      "        \"area\": \"North\",\n",
      "        \"profit\": 2,\n",
      "        \"sales\": 5\n",
      "      },\n",
      "      {\n",
      "        \"area\": \"East\",\n",
      "        \"profit\": 8,\n",
      "        \"sales\": 25\n",
      "      },\n",
      "      {\n",
      "        \"area\": \"West\",\n",
      "        \"profit\": 6,\n",
      "        \"sales\": 15\n",
      "      },\n",
      "      {\n",
      "        \"area\": \"South\",\n",
      "        \"profit\": 5,\n",
      "        \"sales\": 20\n",
      "      },\n",
      "      {\n",
      "        \"area\": \"Central\",\n",
      "        \"profit\": 3,\n",
      "        \"sales\": 10\n",
      "      }\n",
      "    ]\n",
      "  },\n",
      "  \"encoding\": {\n",
      "    \"x\": {\n",
      "      \"field\": \"sales\",\n",
      "      \"type\": \"quantitative\"\n",
      "    },\n",
      "    \"y\": {\n",
      "      \"field\": \"area\",\n",
      "      \"type\": \"nominal\"\n",
      "    }\n",
      "  },\n",
      "  \"mark\": \"bar\"\n",
      "}\n"
     ]
    }
   ],
   "source": [
    "chart = alt.Chart(sample).mark_bar().encode(\n",
    "    x='sales',\n",
    "    y='area',\n",
    ")\n",
    "print(chart.to_json())"
   ]
  },
  {
   "cell_type": "code",
   "execution_count": 74,
   "metadata": {},
   "outputs": [
    {
     "name": "stdout",
     "output_type": "stream",
     "text": [
      "{\n",
      "  \"field\": \"Sales\",\n",
      "  \"type\": \"quantitative\"\n",
      "}\n"
     ]
    }
   ],
   "source": [
    "x = alt.X('Sales:Q')\n",
    "print(x.to_json())"
   ]
  },
  {
   "cell_type": "markdown",
   "metadata": {},
   "source": [
    "## Publishing to HTML"
   ]
  },
  {
   "cell_type": "code",
   "execution_count": 75,
   "metadata": {},
   "outputs": [],
   "source": [
    "chart = alt.Chart(sample).mark_bar().encode(\n",
    "    x='sales',\n",
    "    y='area',\n",
    ")\n",
    "chart.save('chart.html')"
   ]
  },
  {
   "cell_type": "code",
   "execution_count": null,
   "metadata": {},
   "outputs": [],
   "source": []
  }
 ],
 "metadata": {
  "kernelspec": {
   "display_name": "Python 3",
   "language": "python",
   "name": "python3"
  },
  "language_info": {
   "codemirror_mode": {
    "name": "ipython",
    "version": 3
   },
   "file_extension": ".py",
   "mimetype": "text/x-python",
   "name": "python",
   "nbconvert_exporter": "python",
   "pygments_lexer": "ipython3",
   "version": "3.6.7"
  }
 },
 "nbformat": 4,
 "nbformat_minor": 4
}
