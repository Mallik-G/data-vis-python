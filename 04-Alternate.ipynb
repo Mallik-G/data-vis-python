{
 "cells": [
  {
   "cell_type": "markdown",
   "metadata": {},
   "source": [
    "# Alternate Representation\n",
    "\n",
    "- Marks\n",
    "- Channels\n",
    "- Scales\n",
    "- Axis and Legends\n",
    "\n"
   ]
  },
  {
   "cell_type": "code",
   "execution_count": 1,
   "metadata": {},
   "outputs": [],
   "source": [
    "import pandas as pd\n",
    "import altair as alt"
   ]
  },
  {
   "cell_type": "markdown",
   "metadata": {},
   "source": [
    "## Antibiotics Data"
   ]
  },
  {
   "cell_type": "code",
   "execution_count": 2,
   "metadata": {},
   "outputs": [],
   "source": [
    "from vega_datasets import data\n",
    "antibiotics = data.burtin.url"
   ]
  },
  {
   "cell_type": "code",
   "execution_count": 3,
   "metadata": {},
   "outputs": [
    {
     "data": {
      "text/html": [
       "<div>\n",
       "<style scoped>\n",
       "    .dataframe tbody tr th:only-of-type {\n",
       "        vertical-align: middle;\n",
       "    }\n",
       "\n",
       "    .dataframe tbody tr th {\n",
       "        vertical-align: top;\n",
       "    }\n",
       "\n",
       "    .dataframe thead th {\n",
       "        text-align: right;\n",
       "    }\n",
       "</style>\n",
       "<table border=\"1\" class=\"dataframe\">\n",
       "  <thead>\n",
       "    <tr style=\"text-align: right;\">\n",
       "      <th></th>\n",
       "      <th>Bacteria</th>\n",
       "      <th>Penicillin</th>\n",
       "      <th>Streptomycin</th>\n",
       "      <th>Neomycin</th>\n",
       "      <th>Gram_Staining</th>\n",
       "      <th>Genus</th>\n",
       "    </tr>\n",
       "  </thead>\n",
       "  <tbody>\n",
       "    <tr>\n",
       "      <td>0</td>\n",
       "      <td>Aerobacter aerogenes</td>\n",
       "      <td>870.000</td>\n",
       "      <td>1.00</td>\n",
       "      <td>1.600</td>\n",
       "      <td>negative</td>\n",
       "      <td>other</td>\n",
       "    </tr>\n",
       "    <tr>\n",
       "      <td>1</td>\n",
       "      <td>Bacillus anthracis</td>\n",
       "      <td>0.001</td>\n",
       "      <td>0.01</td>\n",
       "      <td>0.007</td>\n",
       "      <td>positive</td>\n",
       "      <td>other</td>\n",
       "    </tr>\n",
       "    <tr>\n",
       "      <td>2</td>\n",
       "      <td>Brucella abortus</td>\n",
       "      <td>1.000</td>\n",
       "      <td>2.00</td>\n",
       "      <td>0.020</td>\n",
       "      <td>negative</td>\n",
       "      <td>other</td>\n",
       "    </tr>\n",
       "    <tr>\n",
       "      <td>3</td>\n",
       "      <td>Diplococcus pneumoniae</td>\n",
       "      <td>0.005</td>\n",
       "      <td>11.00</td>\n",
       "      <td>10.000</td>\n",
       "      <td>positive</td>\n",
       "      <td>other</td>\n",
       "    </tr>\n",
       "    <tr>\n",
       "      <td>4</td>\n",
       "      <td>Escherichia coli</td>\n",
       "      <td>100.000</td>\n",
       "      <td>0.40</td>\n",
       "      <td>0.100</td>\n",
       "      <td>negative</td>\n",
       "      <td>other</td>\n",
       "    </tr>\n",
       "    <tr>\n",
       "      <td>5</td>\n",
       "      <td>Klebsiella pneumoniae</td>\n",
       "      <td>850.000</td>\n",
       "      <td>1.20</td>\n",
       "      <td>1.000</td>\n",
       "      <td>negative</td>\n",
       "      <td>other</td>\n",
       "    </tr>\n",
       "    <tr>\n",
       "      <td>6</td>\n",
       "      <td>Mycobacterium tuberculosis</td>\n",
       "      <td>800.000</td>\n",
       "      <td>5.00</td>\n",
       "      <td>2.000</td>\n",
       "      <td>negative</td>\n",
       "      <td>other</td>\n",
       "    </tr>\n",
       "    <tr>\n",
       "      <td>7</td>\n",
       "      <td>Proteus vulgaris</td>\n",
       "      <td>3.000</td>\n",
       "      <td>0.10</td>\n",
       "      <td>0.100</td>\n",
       "      <td>negative</td>\n",
       "      <td>other</td>\n",
       "    </tr>\n",
       "    <tr>\n",
       "      <td>8</td>\n",
       "      <td>Pseudomonas aeruginosa</td>\n",
       "      <td>850.000</td>\n",
       "      <td>2.00</td>\n",
       "      <td>0.400</td>\n",
       "      <td>negative</td>\n",
       "      <td>other</td>\n",
       "    </tr>\n",
       "    <tr>\n",
       "      <td>9</td>\n",
       "      <td>Salmonella (Eberthella) typhosa</td>\n",
       "      <td>1.000</td>\n",
       "      <td>0.40</td>\n",
       "      <td>0.008</td>\n",
       "      <td>negative</td>\n",
       "      <td>Salmonella</td>\n",
       "    </tr>\n",
       "    <tr>\n",
       "      <td>10</td>\n",
       "      <td>Salmonella schottmuelleri</td>\n",
       "      <td>10.000</td>\n",
       "      <td>0.80</td>\n",
       "      <td>0.090</td>\n",
       "      <td>negative</td>\n",
       "      <td>Salmonella</td>\n",
       "    </tr>\n",
       "    <tr>\n",
       "      <td>11</td>\n",
       "      <td>Staphylococcus albus</td>\n",
       "      <td>0.007</td>\n",
       "      <td>0.10</td>\n",
       "      <td>0.001</td>\n",
       "      <td>positive</td>\n",
       "      <td>Staphylococcus</td>\n",
       "    </tr>\n",
       "    <tr>\n",
       "      <td>12</td>\n",
       "      <td>Staphylococcus aureus</td>\n",
       "      <td>0.030</td>\n",
       "      <td>0.03</td>\n",
       "      <td>0.001</td>\n",
       "      <td>positive</td>\n",
       "      <td>Staphylococcus</td>\n",
       "    </tr>\n",
       "    <tr>\n",
       "      <td>13</td>\n",
       "      <td>Streptococcus fecalis</td>\n",
       "      <td>1.000</td>\n",
       "      <td>1.00</td>\n",
       "      <td>0.100</td>\n",
       "      <td>positive</td>\n",
       "      <td>Streptococcus</td>\n",
       "    </tr>\n",
       "    <tr>\n",
       "      <td>14</td>\n",
       "      <td>Streptococcus hemolyticus</td>\n",
       "      <td>0.001</td>\n",
       "      <td>14.00</td>\n",
       "      <td>10.000</td>\n",
       "      <td>positive</td>\n",
       "      <td>Streptococcus</td>\n",
       "    </tr>\n",
       "    <tr>\n",
       "      <td>15</td>\n",
       "      <td>Streptococcus viridans</td>\n",
       "      <td>0.005</td>\n",
       "      <td>10.00</td>\n",
       "      <td>40.000</td>\n",
       "      <td>positive</td>\n",
       "      <td>Streptococcus</td>\n",
       "    </tr>\n",
       "  </tbody>\n",
       "</table>\n",
       "</div>"
      ],
      "text/plain": [
       "                           Bacteria  Penicillin  Streptomycin  Neomycin  \\\n",
       "0              Aerobacter aerogenes     870.000          1.00     1.600   \n",
       "1                Bacillus anthracis       0.001          0.01     0.007   \n",
       "2                  Brucella abortus       1.000          2.00     0.020   \n",
       "3            Diplococcus pneumoniae       0.005         11.00    10.000   \n",
       "4                  Escherichia coli     100.000          0.40     0.100   \n",
       "5             Klebsiella pneumoniae     850.000          1.20     1.000   \n",
       "6        Mycobacterium tuberculosis     800.000          5.00     2.000   \n",
       "7                  Proteus vulgaris       3.000          0.10     0.100   \n",
       "8            Pseudomonas aeruginosa     850.000          2.00     0.400   \n",
       "9   Salmonella (Eberthella) typhosa       1.000          0.40     0.008   \n",
       "10        Salmonella schottmuelleri      10.000          0.80     0.090   \n",
       "11             Staphylococcus albus       0.007          0.10     0.001   \n",
       "12            Staphylococcus aureus       0.030          0.03     0.001   \n",
       "13            Streptococcus fecalis       1.000          1.00     0.100   \n",
       "14        Streptococcus hemolyticus       0.001         14.00    10.000   \n",
       "15           Streptococcus viridans       0.005         10.00    40.000   \n",
       "\n",
       "   Gram_Staining           Genus  \n",
       "0       negative           other  \n",
       "1       positive           other  \n",
       "2       negative           other  \n",
       "3       positive           other  \n",
       "4       negative           other  \n",
       "5       negative           other  \n",
       "6       negative           other  \n",
       "7       negative           other  \n",
       "8       negative           other  \n",
       "9       negative      Salmonella  \n",
       "10      negative      Salmonella  \n",
       "11      positive  Staphylococcus  \n",
       "12      positive  Staphylococcus  \n",
       "13      positive   Streptococcus  \n",
       "14      positive   Streptococcus  \n",
       "15      positive   Streptococcus  "
      ]
     },
     "execution_count": 3,
     "metadata": {},
     "output_type": "execute_result"
    }
   ],
   "source": [
    "pd.read_json(antibiotics)"
   ]
  },
  {
   "cell_type": "markdown",
   "metadata": {},
   "source": [
    "## Configuring Scales and Axes"
   ]
  },
  {
   "cell_type": "markdown",
   "metadata": {},
   "source": [
    "### Plotting Antibiotic Resistance: Adjusting the Scale Type"
   ]
  },
  {
   "cell_type": "code",
   "execution_count": 8,
   "metadata": {},
   "outputs": [
    {
     "data": {
      "application/vnd.vegalite.v3+json": {
       "$schema": "https://vega.github.io/schema/vega-lite/v3.4.0.json",
       "config": {
        "mark": {
         "tooltip": null
        },
        "view": {
         "height": 300,
         "width": 400
        }
       },
       "data": {
        "url": "https://vega.github.io/vega-datasets/data/burtin.json"
       },
       "encoding": {
        "x": {
         "field": "Neomycin",
         "type": "quantitative"
        }
       },
       "mark": "circle"
      },
      "image/png": "[encoded data removed]",
      "text/plain": [
       "<VegaLite 3 object>\n",
       "\n",
       "If you see this message, it means the renderer has not been properly enabled\n",
       "for the frontend that you are using. For more information, see\n",
       "https://altair-viz.github.io/user_guide/troubleshooting.html\n"
      ]
     },
     "execution_count": 8,
     "metadata": {},
     "output_type": "execute_result"
    }
   ],
   "source": [
    "alt.Chart(antibiotics).mark_circle().encode(\n",
    "    alt.X(\"Neomycin:Q\")\n",
    ")"
   ]
  },
  {
   "cell_type": "code",
   "execution_count": 9,
   "metadata": {},
   "outputs": [
    {
     "data": {
      "application/vnd.vegalite.v3+json": {
       "$schema": "https://vega.github.io/schema/vega-lite/v3.4.0.json",
       "config": {
        "mark": {
         "tooltip": null
        },
        "view": {
         "height": 300,
         "width": 400
        }
       },
       "data": {
        "url": "https://vega.github.io/vega-datasets/data/burtin.json"
       },
       "encoding": {
        "x": {
         "field": "Neomycin",
         "scale": {
          "type": "sqrt"
         },
         "type": "quantitative"
        }
       },
       "mark": "circle"
      },
      "image/png": "[encoded data removed]",
      "text/plain": [
       "<VegaLite 3 object>\n",
       "\n",
       "If you see this message, it means the renderer has not been properly enabled\n",
       "for the frontend that you are using. For more information, see\n",
       "https://altair-viz.github.io/user_guide/troubleshooting.html\n"
      ]
     },
     "execution_count": 9,
     "metadata": {},
     "output_type": "execute_result"
    }
   ],
   "source": [
    "alt.Chart(antibiotics).mark_circle().encode(\n",
    "    alt.X('Neomycin:Q',\n",
    "          scale = alt.Scale(type=\"sqrt\")\n",
    "         ))"
   ]
  },
  {
   "cell_type": "code",
   "execution_count": 10,
   "metadata": {},
   "outputs": [
    {
     "data": {
      "application/vnd.vegalite.v3+json": {
       "$schema": "https://vega.github.io/schema/vega-lite/v3.4.0.json",
       "config": {
        "mark": {
         "tooltip": null
        },
        "view": {
         "height": 300,
         "width": 400
        }
       },
       "data": {
        "url": "https://vega.github.io/vega-datasets/data/burtin.json"
       },
       "encoding": {
        "x": {
         "field": "Neomycin",
         "scale": {
          "type": "log"
         },
         "type": "quantitative"
        }
       },
       "mark": "circle"
      },
      "image/png": "[encoded data removed]",
      "text/plain": [
       "<VegaLite 3 object>\n",
       "\n",
       "If you see this message, it means the renderer has not been properly enabled\n",
       "for the frontend that you are using. For more information, see\n",
       "https://altair-viz.github.io/user_guide/troubleshooting.html\n"
      ]
     },
     "execution_count": 10,
     "metadata": {},
     "output_type": "execute_result"
    }
   ],
   "source": [
    "alt.Chart(antibiotics).mark_circle().encode(\n",
    "    alt.X('Neomycin:Q',\n",
    "          scale = alt.Scale(type=\"log\")\n",
    "         ))"
   ]
  },
  {
   "cell_type": "markdown",
   "metadata": {},
   "source": [
    "### Styling axis"
   ]
  },
  {
   "cell_type": "code",
   "execution_count": 12,
   "metadata": {},
   "outputs": [
    {
     "data": {
      "application/vnd.vegalite.v3+json": {
       "$schema": "https://vega.github.io/schema/vega-lite/v3.4.0.json",
       "config": {
        "mark": {
         "tooltip": null
        },
        "view": {
         "height": 300,
         "width": 400
        }
       },
       "data": {
        "url": "https://vega.github.io/vega-datasets/data/burtin.json"
       },
       "encoding": {
        "x": {
         "field": "Neomycin",
         "scale": {
          "type": "log"
         },
         "sort": "descending",
         "type": "quantitative"
        }
       },
       "mark": "circle"
      },
      "image/png": "[encoded data removed]",
      "text/plain": [
       "<VegaLite 3 object>\n",
       "\n",
       "If you see this message, it means the renderer has not been properly enabled\n",
       "for the frontend that you are using. For more information, see\n",
       "https://altair-viz.github.io/user_guide/troubleshooting.html\n"
      ]
     },
     "execution_count": 12,
     "metadata": {},
     "output_type": "execute_result"
    }
   ],
   "source": [
    "alt.Chart(antibiotics).mark_circle().encode(\n",
    "    alt.X('Neomycin:Q',\n",
    "          sort='descending',\n",
    "          scale=alt.Scale(type='log'))\n",
    ")"
   ]
  },
  {
   "cell_type": "code",
   "execution_count": 13,
   "metadata": {},
   "outputs": [
    {
     "data": {
      "application/vnd.vegalite.v3+json": {
       "$schema": "https://vega.github.io/schema/vega-lite/v3.4.0.json",
       "config": {
        "mark": {
         "tooltip": null
        },
        "view": {
         "height": 300,
         "width": 400
        }
       },
       "data": {
        "url": "https://vega.github.io/vega-datasets/data/burtin.json"
       },
       "encoding": {
        "x": {
         "field": "Neomycin",
         "scale": {
          "type": "log"
         },
         "sort": "descending",
         "title": "Neomycin MIC (μg/ml, reverse log scale)",
         "type": "quantitative"
        }
       },
       "mark": "circle"
      },
      "image/png": "[encoded data removed]",
      "text/plain": [
       "<VegaLite 3 object>\n",
       "\n",
       "If you see this message, it means the renderer has not been properly enabled\n",
       "for the frontend that you are using. For more information, see\n",
       "https://altair-viz.github.io/user_guide/troubleshooting.html\n"
      ]
     },
     "execution_count": 13,
     "metadata": {},
     "output_type": "execute_result"
    }
   ],
   "source": [
    "alt.Chart(antibiotics).mark_circle().encode(\n",
    "    alt.X('Neomycin:Q',\n",
    "          sort='descending',\n",
    "          scale=alt.Scale(type='log'),\n",
    "          title='Neomycin MIC (μg/ml, reverse log scale)')\n",
    ")"
   ]
  },
  {
   "cell_type": "markdown",
   "metadata": {},
   "source": [
    "### Comparing Antibiotics: Adjusting Grid Lines, Tick Counts, and Sizing"
   ]
  },
  {
   "cell_type": "code",
   "execution_count": 14,
   "metadata": {},
   "outputs": [
    {
     "data": {
      "application/vnd.vegalite.v3+json": {
       "$schema": "https://vega.github.io/schema/vega-lite/v3.4.0.json",
       "config": {
        "mark": {
         "tooltip": null
        },
        "view": {
         "height": 300,
         "width": 400
        }
       },
       "data": {
        "url": "https://vega.github.io/vega-datasets/data/burtin.json"
       },
       "encoding": {
        "x": {
         "field": "Neomycin",
         "scale": {
          "type": "log"
         },
         "sort": "descending",
         "title": "Neomycin MIC (μg/ml, reverse log scale)",
         "type": "quantitative"
        },
        "y": {
         "field": "Streptomycin",
         "scale": {
          "type": "log"
         },
         "sort": "descending",
         "title": "Streptomycin MIC (μg/ml, reverse log scale)",
         "type": "quantitative"
        }
       },
       "mark": "circle"
      },
      "image/png": "[encoded data removed]",
      "text/plain": [
       "<VegaLite 3 object>\n",
       "\n",
       "If you see this message, it means the renderer has not been properly enabled\n",
       "for the frontend that you are using. For more information, see\n",
       "https://altair-viz.github.io/user_guide/troubleshooting.html\n"
      ]
     },
     "execution_count": 14,
     "metadata": {},
     "output_type": "execute_result"
    }
   ],
   "source": [
    "alt.Chart(antibiotics).mark_circle().encode(\n",
    "    alt.X('Neomycin:Q',\n",
    "          sort='descending',\n",
    "          scale=alt.Scale(type='log'),\n",
    "          title='Neomycin MIC (μg/ml, reverse log scale)'),\n",
    "    alt.Y('Streptomycin:Q',\n",
    "          sort='descending',\n",
    "          scale=alt.Scale(type='log'),\n",
    "          title='Streptomycin MIC (μg/ml, reverse log scale)')\n",
    ")"
   ]
  },
  {
   "cell_type": "code",
   "execution_count": 15,
   "metadata": {},
   "outputs": [
    {
     "data": {
      "application/vnd.vegalite.v3+json": {
       "$schema": "https://vega.github.io/schema/vega-lite/v3.4.0.json",
       "config": {
        "mark": {
         "tooltip": null
        },
        "view": {
         "height": 300,
         "width": 400
        }
       },
       "data": {
        "url": "https://vega.github.io/vega-datasets/data/burtin.json"
       },
       "encoding": {
        "x": {
         "field": "Neomycin",
         "scale": {
          "type": "log"
         },
         "sort": "descending",
         "title": "Neomycin MIC (μg/ml, reverse log scale)",
         "type": "quantitative"
        },
        "y": {
         "field": "Penicillin",
         "scale": {
          "type": "log"
         },
         "sort": "descending",
         "title": "Penicillin MIC (μg/ml, reverse log scale)",
         "type": "quantitative"
        }
       },
       "mark": "circle"
      },
      "image/png": "[encoded data removed]",
      "text/plain": [
       "<VegaLite 3 object>\n",
       "\n",
       "If you see this message, it means the renderer has not been properly enabled\n",
       "for the frontend that you are using. For more information, see\n",
       "https://altair-viz.github.io/user_guide/troubleshooting.html\n"
      ]
     },
     "execution_count": 15,
     "metadata": {},
     "output_type": "execute_result"
    }
   ],
   "source": [
    "alt.Chart(antibiotics).mark_circle().encode(\n",
    "    alt.X('Neomycin:Q',\n",
    "          sort='descending',\n",
    "          scale=alt.Scale(type='log'),\n",
    "          title='Neomycin MIC (μg/ml, reverse log scale)'),\n",
    "    alt.Y('Penicillin:Q',\n",
    "          sort='descending',\n",
    "          scale=alt.Scale(type='log'),\n",
    "          title='Penicillin MIC (μg/ml, reverse log scale)')\n",
    ")"
   ]
  },
  {
   "cell_type": "code",
   "execution_count": 16,
   "metadata": {},
   "outputs": [
    {
     "data": {
      "application/vnd.vegalite.v3+json": {
       "$schema": "https://vega.github.io/schema/vega-lite/v3.4.0.json",
       "config": {
        "mark": {
         "tooltip": null
        },
        "view": {
         "height": 300,
         "width": 400
        }
       },
       "data": {
        "url": "https://vega.github.io/vega-datasets/data/burtin.json"
       },
       "encoding": {
        "x": {
         "field": "Neomycin",
         "scale": {
          "domain": [
           0.001,
           1000
          ],
          "type": "log"
         },
         "sort": "descending",
         "title": "Neomycin MIC (μg/ml, reverse log scale)",
         "type": "quantitative"
        },
        "y": {
         "field": "Penicillin",
         "scale": {
          "domain": [
           0.001,
           1000
          ],
          "type": "log"
         },
         "sort": "descending",
         "title": "Penicillin MIC (μg/ml, reverse log scale)",
         "type": "quantitative"
        }
       },
       "height": 250,
       "mark": "circle",
       "width": 250
      },
      "image/png": "[encoded data removed]",
      "text/plain": [
       "<VegaLite 3 object>\n",
       "\n",
       "If you see this message, it means the renderer has not been properly enabled\n",
       "for the frontend that you are using. For more information, see\n",
       "https://altair-viz.github.io/user_guide/troubleshooting.html\n"
      ]
     },
     "execution_count": 16,
     "metadata": {},
     "output_type": "execute_result"
    }
   ],
   "source": [
    "alt.Chart(antibiotics).mark_circle().encode(\n",
    "    alt.X('Neomycin:Q',\n",
    "          sort='descending',\n",
    "          scale=alt.Scale(type='log', domain=[0.001, 1000]),\n",
    "          title='Neomycin MIC (μg/ml, reverse log scale)'),\n",
    "    alt.Y('Penicillin:Q',\n",
    "          sort='descending',\n",
    "          scale=alt.Scale(type='log', domain=[0.001, 1000]),\n",
    "          title='Penicillin MIC (μg/ml, reverse log scale)')\n",
    ").properties(width=250, height=250)"
   ]
  },
  {
   "cell_type": "markdown",
   "metadata": {},
   "source": [
    "### reducing ticks"
   ]
  },
  {
   "cell_type": "code",
   "execution_count": 18,
   "metadata": {},
   "outputs": [
    {
     "data": {
      "application/vnd.vegalite.v3+json": {
       "$schema": "https://vega.github.io/schema/vega-lite/v3.4.0.json",
       "config": {
        "mark": {
         "tooltip": null
        },
        "view": {
         "height": 300,
         "width": 400
        }
       },
       "data": {
        "url": "https://vega.github.io/vega-datasets/data/burtin.json"
       },
       "encoding": {
        "x": {
         "axis": {
          "tickCount": 5
         },
         "field": "Neomycin",
         "scale": {
          "domain": [
           0.001,
           1000
          ],
          "type": "log"
         },
         "sort": "descending",
         "title": "Neomycin MIC (μg/ml, reverse log scale)",
         "type": "quantitative"
        },
        "y": {
         "axis": {
          "tickCount": 5
         },
         "field": "Penicillin",
         "scale": {
          "domain": [
           0.001,
           1000
          ],
          "type": "log"
         },
         "sort": "descending",
         "title": "Penicillin MIC (μg/ml, reverse log scale)",
         "type": "quantitative"
        }
       },
       "height": 250,
       "mark": "circle",
       "width": 250
      },
      "image/png": "[encoded data removed]",
      "text/plain": [
       "<VegaLite 3 object>\n",
       "\n",
       "If you see this message, it means the renderer has not been properly enabled\n",
       "for the frontend that you are using. For more information, see\n",
       "https://altair-viz.github.io/user_guide/troubleshooting.html\n"
      ]
     },
     "execution_count": 18,
     "metadata": {},
     "output_type": "execute_result"
    }
   ],
   "source": [
    "alt.Chart(antibiotics).mark_circle().encode(\n",
    "    alt.X('Neomycin:Q',\n",
    "          sort='descending',\n",
    "          scale=alt.Scale(type='log', domain=[0.001, 1000]),\n",
    "          axis=alt.Axis(tickCount=5),\n",
    "          title='Neomycin MIC (μg/ml, reverse log scale)'),\n",
    "    alt.Y('Penicillin:Q',\n",
    "          sort='descending',\n",
    "          scale=alt.Scale(type='log', domain=[0.001, 1000]),\n",
    "          axis=alt.Axis(tickCount=5),\n",
    "          title='Penicillin MIC (μg/ml, reverse log scale)')\n",
    ").properties(width=250, height=250)"
   ]
  },
  {
   "cell_type": "markdown",
   "metadata": {},
   "source": [
    "Lets increase size of pointsHowever"
   ]
  },
  {
   "cell_type": "code",
   "execution_count": 20,
   "metadata": {},
   "outputs": [
    {
     "data": {
      "application/vnd.vegalite.v3+json": {
       "$schema": "https://vega.github.io/schema/vega-lite/v3.4.0.json",
       "config": {
        "mark": {
         "tooltip": null
        },
        "view": {
         "height": 300,
         "width": 400
        }
       },
       "data": {
        "url": "https://vega.github.io/vega-datasets/data/burtin.json"
       },
       "encoding": {
        "x": {
         "axis": {
          "tickCount": 5
         },
         "field": "Neomycin",
         "scale": {
          "domain": [
           0.001,
           1000
          ],
          "type": "log"
         },
         "sort": "descending",
         "title": "Neomycin MIC (μg/ml, reverse log scale)",
         "type": "quantitative"
        },
        "y": {
         "axis": {
          "tickCount": 5
         },
         "field": "Penicillin",
         "scale": {
          "domain": [
           0.001,
           1000
          ],
          "type": "log"
         },
         "sort": "descending",
         "title": "Penicillin MIC (μg/ml, reverse log scale)",
         "type": "quantitative"
        }
       },
       "height": 250,
       "mark": {
        "size": 80,
        "type": "circle"
       },
       "width": 250
      },
      "image/png": "[encoded data removed]",
      "text/plain": [
       "<VegaLite 3 object>\n",
       "\n",
       "If you see this message, it means the renderer has not been properly enabled\n",
       "for the frontend that you are using. For more information, see\n",
       "https://altair-viz.github.io/user_guide/troubleshooting.html\n"
      ]
     },
     "execution_count": 20,
     "metadata": {},
     "output_type": "execute_result"
    }
   ],
   "source": [
    "alt.Chart(antibiotics).mark_circle(size=80).encode(\n",
    "    alt.X('Neomycin:Q',\n",
    "          sort='descending',\n",
    "          scale=alt.Scale(type='log', domain=[0.001, 1000]),\n",
    "          axis=alt.Axis(tickCount=5),\n",
    "          title='Neomycin MIC (μg/ml, reverse log scale)'),\n",
    "    alt.Y('Penicillin:Q',\n",
    "          sort='descending',\n",
    "          scale=alt.Scale(type='log', domain=[0.001, 1000]),\n",
    "          axis=alt.Axis(tickCount=5),\n",
    "          title='Penicillin MIC (μg/ml, reverse log scale)'), \n",
    ").properties(width=250, height=250)"
   ]
  },
  {
   "cell_type": "markdown",
   "metadata": {},
   "source": [
    "### Configuring colours Legends"
   ]
  },
  {
   "cell_type": "code",
   "execution_count": 21,
   "metadata": {},
   "outputs": [
    {
     "data": {
      "application/vnd.vegalite.v3+json": {
       "$schema": "https://vega.github.io/schema/vega-lite/v3.4.0.json",
       "config": {
        "mark": {
         "tooltip": null
        },
        "view": {
         "height": 300,
         "width": 400
        }
       },
       "data": {
        "url": "https://vega.github.io/vega-datasets/data/burtin.json"
       },
       "encoding": {
        "color": {
         "field": "Gram_Staining",
         "type": "nominal"
        },
        "x": {
         "axis": {
          "tickCount": 5
         },
         "field": "Neomycin",
         "scale": {
          "domain": [
           0.001,
           1000
          ],
          "type": "log"
         },
         "sort": "descending",
         "title": "Neomycin MIC (μg/ml, reverse log scale)",
         "type": "quantitative"
        },
        "y": {
         "axis": {
          "tickCount": 5
         },
         "field": "Penicillin",
         "scale": {
          "domain": [
           0.001,
           1000
          ],
          "type": "log"
         },
         "sort": "descending",
         "title": "Penicillin MIC (μg/ml, reverse log scale)",
         "type": "quantitative"
        }
       },
       "height": 250,
       "mark": {
        "size": 80,
        "type": "circle"
       },
       "width": 250
      },
      "image/png": "[encoded data removed]",
      "text/plain": [
       "<VegaLite 3 object>\n",
       "\n",
       "If you see this message, it means the renderer has not been properly enabled\n",
       "for the frontend that you are using. For more information, see\n",
       "https://altair-viz.github.io/user_guide/troubleshooting.html\n"
      ]
     },
     "execution_count": 21,
     "metadata": {},
     "output_type": "execute_result"
    }
   ],
   "source": [
    "alt.Chart(antibiotics).mark_circle(size=80).encode(\n",
    "    alt.X('Neomycin:Q',\n",
    "          sort='descending',\n",
    "          scale=alt.Scale(type='log', domain=[0.001, 1000]),\n",
    "          axis=alt.Axis(tickCount=5),\n",
    "          title='Neomycin MIC (μg/ml, reverse log scale)'),\n",
    "    alt.Y('Penicillin:Q',\n",
    "          sort='descending',\n",
    "          scale=alt.Scale(type='log', domain=[0.001, 1000]),\n",
    "          axis=alt.Axis(tickCount=5),\n",
    "          title='Penicillin MIC (μg/ml, reverse log scale)'),\n",
    "    alt.Color('Gram_Staining:N')\n",
    ").properties(width=250, height=250)"
   ]
  },
  {
   "cell_type": "markdown",
   "metadata": {},
   "source": [
    "### Change colors as you wish"
   ]
  },
  {
   "cell_type": "code",
   "execution_count": 22,
   "metadata": {},
   "outputs": [
    {
     "data": {
      "application/vnd.vegalite.v3+json": {
       "$schema": "https://vega.github.io/schema/vega-lite/v3.4.0.json",
       "config": {
        "mark": {
         "tooltip": null
        },
        "view": {
         "height": 300,
         "width": 400
        }
       },
       "data": {
        "url": "https://vega.github.io/vega-datasets/data/burtin.json"
       },
       "encoding": {
        "color": {
         "field": "Gram_Staining",
         "scale": {
          "domain": [
           "negative",
           "positive"
          ],
          "range": [
           "hotpink",
           "purple"
          ]
         },
         "type": "nominal"
        },
        "x": {
         "axis": {
          "tickCount": 5
         },
         "field": "Neomycin",
         "scale": {
          "domain": [
           0.001,
           1000
          ],
          "type": "log"
         },
         "sort": "descending",
         "title": "Neomycin MIC (μg/ml, reverse log scale)",
         "type": "quantitative"
        },
        "y": {
         "axis": {
          "tickCount": 5
         },
         "field": "Penicillin",
         "scale": {
          "domain": [
           0.001,
           1000
          ],
          "type": "log"
         },
         "sort": "descending",
         "title": "Penicillin MIC (μg/ml, reverse log scale)",
         "type": "quantitative"
        }
       },
       "height": 250,
       "mark": {
        "size": 80,
        "type": "circle"
       },
       "width": 250
      },
      "image/png": "[encoded data removed]",
      "text/plain": [
       "<VegaLite 3 object>\n",
       "\n",
       "If you see this message, it means the renderer has not been properly enabled\n",
       "for the frontend that you are using. For more information, see\n",
       "https://altair-viz.github.io/user_guide/troubleshooting.html\n"
      ]
     },
     "execution_count": 22,
     "metadata": {},
     "output_type": "execute_result"
    }
   ],
   "source": [
    "alt.Chart(antibiotics).mark_circle(size=80).encode(\n",
    "    alt.X('Neomycin:Q',\n",
    "          sort='descending',\n",
    "          scale=alt.Scale(type='log', domain=[0.001, 1000]),\n",
    "          axis=alt.Axis(tickCount=5),\n",
    "          title='Neomycin MIC (μg/ml, reverse log scale)'),\n",
    "    alt.Y('Penicillin:Q',\n",
    "          sort='descending',\n",
    "          scale=alt.Scale(type='log', domain=[0.001, 1000]),\n",
    "          axis=alt.Axis(tickCount=5),\n",
    "          title='Penicillin MIC (μg/ml, reverse log scale)'),\n",
    "    alt.Color('Gram_Staining:N',\n",
    "          scale=alt.Scale(domain=['negative', 'positive'], range=['hotpink', 'purple'])\n",
    "    )\n",
    ").properties(width=250, height=250)"
   ]
  },
  {
   "cell_type": "markdown",
   "metadata": {},
   "source": [
    "### Change legend position"
   ]
  },
  {
   "cell_type": "code",
   "execution_count": 23,
   "metadata": {},
   "outputs": [
    {
     "data": {
      "application/vnd.vegalite.v3+json": {
       "$schema": "https://vega.github.io/schema/vega-lite/v3.4.0.json",
       "config": {
        "mark": {
         "tooltip": null
        },
        "view": {
         "height": 300,
         "width": 400
        }
       },
       "data": {
        "url": "https://vega.github.io/vega-datasets/data/burtin.json"
       },
       "encoding": {
        "color": {
         "field": "Gram_Staining",
         "legend": {
          "orient": "left"
         },
         "scale": {
          "domain": [
           "negative",
           "positive"
          ],
          "range": [
           "hotpink",
           "purple"
          ]
         },
         "type": "nominal"
        },
        "x": {
         "axis": {
          "tickCount": 5
         },
         "field": "Neomycin",
         "scale": {
          "domain": [
           0.001,
           1000
          ],
          "type": "log"
         },
         "sort": "descending",
         "title": "Neomycin MIC (μg/ml, reverse log scale)",
         "type": "quantitative"
        },
        "y": {
         "axis": {
          "tickCount": 5
         },
         "field": "Penicillin",
         "scale": {
          "domain": [
           0.001,
           1000
          ],
          "type": "log"
         },
         "sort": "descending",
         "title": "Penicillin MIC (μg/ml, reverse log scale)",
         "type": "quantitative"
        }
       },
       "height": 250,
       "mark": {
        "size": 80,
        "type": "circle"
       },
       "width": 250
      },
      "image/png": "[encoded data removed]",
      "text/plain": [
       "<VegaLite 3 object>\n",
       "\n",
       "If you see this message, it means the renderer has not been properly enabled\n",
       "for the frontend that you are using. For more information, see\n",
       "https://altair-viz.github.io/user_guide/troubleshooting.html\n"
      ]
     },
     "execution_count": 23,
     "metadata": {},
     "output_type": "execute_result"
    }
   ],
   "source": [
    "alt.Chart(antibiotics).mark_circle(size=80).encode(\n",
    "    alt.X('Neomycin:Q',\n",
    "          sort='descending',\n",
    "          scale=alt.Scale(type='log', domain=[0.001, 1000]),\n",
    "          axis=alt.Axis(tickCount=5),\n",
    "          title='Neomycin MIC (μg/ml, reverse log scale)'),\n",
    "    alt.Y('Penicillin:Q',\n",
    "          sort='descending',\n",
    "          scale=alt.Scale(type='log', domain=[0.001, 1000]),\n",
    "          axis=alt.Axis(tickCount=5),\n",
    "          title='Penicillin MIC (μg/ml, reverse log scale)'),\n",
    "    alt.Color('Gram_Staining:N',\n",
    "          scale=alt.Scale(domain=['negative', 'positive'], range=['hotpink', 'purple']),\n",
    "          legend=alt.Legend(orient='left')\n",
    "    )\n",
    ").properties(width=250, height=250)"
   ]
  },
  {
   "cell_type": "code",
   "execution_count": null,
   "metadata": {},
   "outputs": [],
   "source": []
  }
 ],
 "metadata": {
  "kernelspec": {
   "display_name": "Python 3",
   "language": "python",
   "name": "python3"
  },
  "language_info": {
   "codemirror_mode": {
    "name": "ipython",
    "version": 3
   },
   "file_extension": ".py",
   "mimetype": "text/x-python",
   "name": "python",
   "nbconvert_exporter": "python",
   "pygments_lexer": "ipython3",
   "version": "3.6.7"
  }
 },
 "nbformat": 4,
 "nbformat_minor": 4
}
